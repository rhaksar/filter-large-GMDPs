{
 "cells": [
  {
   "cell_type": "markdown",
   "metadata": {},
   "source": [
    "setup"
   ]
  },
  {
   "cell_type": "code",
   "execution_count": 5,
   "metadata": {},
   "outputs": [],
   "source": [
    "import copy\n",
    "import matplotlib.pyplot as plt\n",
    "import numpy as np\n",
    "import pickle\n",
    "\n",
    "%matplotlib inline\n",
    "%load_ext autoreload\n",
    "%autoreload 2"
   ]
  },
  {
   "cell_type": "code",
   "execution_count": null,
   "metadata": {},
   "outputs": [],
   "source": []
  },
  {
   "cell_type": "markdown",
   "metadata": {},
   "source": [
    "First set of results\n",
    "\n",
    "- 3x3 grid size\n",
    "- 100 simulations \n",
    "- methods:\n",
    "    1. exact (to-do)\n",
    "    2. LBP [Kmax=1,Kmax=10]\n",
    "    3. VI [Kmax=1,Kmax=10]"
   ]
  },
  {
   "cell_type": "code",
   "execution_count": 6,
   "metadata": {},
   "outputs": [],
   "source": [
    "plot_data = []\n",
    "tick_labels = []"
   ]
  },
  {
   "cell_type": "markdown",
   "metadata": {},
   "source": [
    "include simple data for the measurement"
   ]
  },
  {
   "cell_type": "code",
   "execution_count": 7,
   "metadata": {},
   "outputs": [],
   "source": [
    "plot_data.append([81])\n",
    "tick_labels.append('measurement')"
   ]
  },
  {
   "cell_type": "markdown",
   "metadata": {},
   "source": [
    "import and add results from exact algorithm"
   ]
  },
  {
   "cell_type": "code",
   "execution_count": 8,
   "metadata": {},
   "outputs": [],
   "source": [
    "file_list = ['ex_gs3_s1.pkl']\n",
    "for file in file_list:\n",
    "    pkl_file = open('data files/'+file, 'rb')\n",
    "    data = pickle.load(pkl_file)\n",
    "    pkl_file.close()\n",
    "    \n",
    "    grid_size = data['grid_size']\n",
    "    state_accuracy = []\n",
    "    for s in data.keys():\n",
    "        if isinstance(s, int):\n",
    "            errors = data[s]['state_error']\n",
    "            accuracies_pct = [(grid_size**2 - e)*100/grid_size**2 for e in errors]\n",
    "            state_accuracy.append(np.median(accuracies_pct))\n",
    "            \n",
    "    plot_data.append(state_accuracy)\n",
    "    tick_labels.append('ex_'+'gs'+str(grid_size))"
   ]
  },
  {
   "cell_type": "markdown",
   "metadata": {},
   "source": [
    "import and add results from VI algorithm"
   ]
  },
  {
   "cell_type": "code",
   "execution_count": 9,
   "metadata": {},
   "outputs": [],
   "source": [
    "file_list = ['mp_gs3_K1_CNone_s100.pkl', 'mp_gs3_K10_CNone_s100.pkl']\n",
    "for file in file_list:\n",
    "    pkl_file = open('data files/'+file, 'rb')\n",
    "    data = pickle.load(pkl_file)\n",
    "    pkl_file.close()\n",
    "    \n",
    "    grid_size = data['grid_size']\n",
    "    Kparam = data['Kparam']\n",
    "    state_accuracy = []\n",
    "    for s in data.keys():\n",
    "        if isinstance(s, int):\n",
    "            errors = data[s]['state_error']\n",
    "            accuracies_pct = [(grid_size**2 - e)*100/grid_size**2 for e in errors]\n",
    "            state_accuracy.append(np.median(accuracies_pct))\n",
    "            \n",
    "    plot_data.append(state_accuracy)\n",
    "    tick_labels.append('mp_'+'gs'+str(grid_size)+'_k'+str(Kparam))"
   ]
  },
  {
   "cell_type": "markdown",
   "metadata": {},
   "source": [
    "import and add results from LBP algorithm"
   ]
  },
  {
   "cell_type": "code",
   "execution_count": 10,
   "metadata": {},
   "outputs": [],
   "source": [
    "file_list = ['lbp_wh9_i1_h3_s100.pkl', 'lbp_wh9_i10_h3_s100.pkl']\n",
    "for file in file_list:\n",
    "    pkl_file = open('data files/'+file, 'rb')\n",
    "    data = pickle.load(pkl_file)\n",
    "    pkl_file.close()\n",
    "    \n",
    "    num_nodes = data['width']*data['height']\n",
    "    maxIterations = data['maxIterations']\n",
    "    state_accuracy = []\n",
    "    for s in data.keys():\n",
    "        if isinstance(s, int):\n",
    "            errors = data[s]['robotE']\n",
    "            accuracies_pct = [(num_nodes - e)*100/num_nodes for e in errors]\n",
    "            state_accuracy.append(np.median(accuracies_pct))\n",
    "            \n",
    "    plot_data.append(state_accuracy)\n",
    "    tick_labels.append('lbp_'+'wh'+str(num_nodes)+'_i'+str(maxIterations))"
   ]
  },
  {
   "cell_type": "markdown",
   "metadata": {},
   "source": [
    "plot results"
   ]
  },
  {
   "cell_type": "code",
   "execution_count": 11,
   "metadata": {},
   "outputs": [
    {
     "data": {
      "text/plain": [
       "[Text(0,0,'measurement'),\n",
       " Text(0,0,'ex_gs3'),\n",
       " Text(0,0,'mp_gs3_k1'),\n",
       " Text(0,0,'mp_gs3_k10'),\n",
       " Text(0,0,'lbp_wh9_i1'),\n",
       " Text(0,0,'lbp_wh9_i10')]"
      ]
     },
     "execution_count": 11,
     "metadata": {},
     "output_type": "execute_result"
    },
    {
     "data": {
      "image/png": "[encoded data removed]",
      "text/plain": [
       "<Figure size 1200x800 with 1 Axes>"
      ]
     },
     "metadata": {},
     "output_type": "display_data"
    }
   ],
   "source": [
    "fig = plt.figure(figsize=(12,8))\n",
    "ax = fig.add_subplot(111)\n",
    "boxplot_ax = ax.boxplot(plot_data)\n",
    "ax.set_xticklabels(tick_labels)"
   ]
  },
  {
   "cell_type": "code",
   "execution_count": null,
   "metadata": {},
   "outputs": [],
   "source": []
  },
  {
   "cell_type": "markdown",
   "metadata": {},
   "source": [
    "Second set of results\n",
    "- 10x10 grid size\n",
    "- 100 simulations\n",
    "- methods:\n",
    "    1. LBP [Kmax=1,Kmax=10] (to-do)\n",
    "    2. VI [Kmax=1,Kmax=10]"
   ]
  },
  {
   "cell_type": "code",
   "execution_count": 62,
   "metadata": {},
   "outputs": [],
   "source": [
    "plot_data = []\n",
    "tick_labels = []"
   ]
  },
  {
   "cell_type": "markdown",
   "metadata": {},
   "source": [
    "include simple data for the measurement"
   ]
  },
  {
   "cell_type": "code",
   "execution_count": 63,
   "metadata": {},
   "outputs": [],
   "source": [
    "plot_data.append([90])\n",
    "tick_labels.append('measurement')"
   ]
  },
  {
   "cell_type": "markdown",
   "metadata": {},
   "source": [
    "import and add results from VI algorithm"
   ]
  },
  {
   "cell_type": "code",
   "execution_count": 64,
   "metadata": {},
   "outputs": [],
   "source": [
    "file_list = ['mp_gs10_K1_CNone_s100.pkl', 'mp_gs10_K10_CNone_s100.pkl']\n",
    "for file in file_list:\n",
    "    pkl_file = open('data files/'+file, 'rb')\n",
    "    data = pickle.load(pkl_file)\n",
    "    pkl_file.close()\n",
    "    \n",
    "    grid_size = data['grid_size']\n",
    "    Kparam = data['Kparam']\n",
    "    state_accuracy = []\n",
    "    for s in data.keys():\n",
    "        if isinstance(s, int):\n",
    "            errors = data[s]['state_error']\n",
    "            accuracies_pct = [(grid_size**2 - e)*100/grid_size**2 for e in errors]\n",
    "            state_accuracy.append(np.median(accuracies_pct))\n",
    "            \n",
    "    plot_data.append(state_accuracy)\n",
    "    tick_labels.append('mp_'+'gs'+str(grid_size)+'_k'+str(Kparam))"
   ]
  },
  {
   "cell_type": "markdown",
   "metadata": {},
   "source": [
    "import and add results from LBP algorithm"
   ]
  },
  {
   "cell_type": "code",
   "execution_count": 35,
   "metadata": {},
   "outputs": [],
   "source": [
    "file_list = ['lbp_wh100_i1_h3_s100.pkl', 'lbp_wh100_i10_h3_s100.pkl']\n",
    "file_list = []\n",
    "for file in file_list:\n",
    "    pkl_file = open('data files/'+file, 'rb')\n",
    "    data = pickle.load(pkl_file)\n",
    "    pkl_file.close()\n",
    "    \n",
    "    num_nodes = data['width']*data['height']\n",
    "    maxIterations = data['maxIterations']\n",
    "    state_accuracy = []\n",
    "    for s in data.keys():\n",
    "        if isinstance(s, int):\n",
    "            errors = data[s]['robotE']\n",
    "            accuracies_pct = [(num_nodes - e)*100/num_nodes for e in errors]\n",
    "            state_accuracy.append(np.median(accuracies_pct))\n",
    "            \n",
    "    plot_data.append(state_accuracy)\n",
    "    tick_labels.append('lbp_'+'wh'+str(num_nodes)+'_i'+str(maxIterations))"
   ]
  },
  {
   "cell_type": "markdown",
   "metadata": {},
   "source": [
    "plot results"
   ]
  },
  {
   "cell_type": "code",
   "execution_count": 65,
   "metadata": {},
   "outputs": [
    {
     "data": {
      "text/plain": [
       "[Text(0,0,'measurement'), Text(0,0,'mp_gs10_k1'), Text(0,0,'mp_gs10_k10')]"
      ]
     },
     "execution_count": 65,
     "metadata": {},
     "output_type": "execute_result"
    },
    {
     "data": {
      "image/png": "[encoded data removed]",
      "text/plain": [
       "<Figure size 1200x800 with 1 Axes>"
      ]
     },
     "metadata": {},
     "output_type": "display_data"
    }
   ],
   "source": [
    "fig = plt.figure(figsize=(12,8))\n",
    "ax = fig.add_subplot(111)\n",
    "boxplot_ax = ax.boxplot(plot_data)\n",
    "ax.set_xticklabels(tick_labels)"
   ]
  },
  {
   "cell_type": "code",
   "execution_count": null,
   "metadata": {},
   "outputs": [],
   "source": []
  },
  {
   "cell_type": "code",
   "execution_count": null,
   "metadata": {},
   "outputs": [],
   "source": []
  },
  {
   "cell_type": "code",
   "execution_count": null,
   "metadata": {},
   "outputs": [],
   "source": []
  },
  {
   "cell_type": "code",
   "execution_count": null,
   "metadata": {},
   "outputs": [],
   "source": [
    "plot_data = []\n",
    "tick_labels = []\n",
    "#for file in os.listdir('data files'):\n",
    "#    if file.startswith('mp'):\n",
    "\n",
    "file_list = ['mp_gs10_K1_CNone_s100.pkl','mp_gs10_K3_CNone_s100.pkl','mp_gs10_K5_CNone_s100.pkl',\n",
    "              'lbp_wh100_s1.pkl']\n",
    "grid_size = 10\n",
    "\n",
    "# file_list = ['mp_gs25_K1_CNone_s10.pkl','mp_gs25_K5_CNone_s10.pkl']\n",
    "\n",
    "# file_list = ['lbp_wh4_s100.pkl']\n",
    "# grid_size = 2\n",
    "\n",
    "for file in file_list:\n",
    "    pkl_file = open('data files/'+file, 'rb')\n",
    "    data = pickle.load(pkl_file)\n",
    "    pkl_file.close()\n",
    "\n",
    "    if not plot_data:\n",
    "        meas_data = [np.median(data[s]['meas_error'])*100/grid_size**2 for s in data.keys()]\n",
    "        plot_data.append(meas_data)\n",
    "        tick_labels.append('Measurement')\n",
    "\n",
    "        print('measurement')\n",
    "        print('min:',np.amin(meas_data))\n",
    "        print('Q1,Q3:',np.percentile(meas_data,[25,75]))\n",
    "        print('median:',np.median(meas_data))\n",
    "        print('max:',np.amax(meas_data))\n",
    "        print()\n",
    "\n",
    "    try:\n",
    "        state_data = [np.median(data[s]['state_error'])*100/grid_size**2 for s in data.keys()]\n",
    "    except:\n",
    "        pass\n",
    "    try:\n",
    "        state_data = [np.median(data[s]['robotE'])*100/grid_size**2 for s in data.keys()]\n",
    "        print(state_data)\n",
    "    except:\n",
    "        pass\n",
    "    plot_data.append(state_data)\n",
    "    tick_labels.append(file)\n",
    "    \n",
    "    print(file)\n",
    "    print('min:',np.amin(state_data))\n",
    "    print('Q1,Q3:',np.percentile(state_data,[25,75]))\n",
    "    print('median:',np.median(state_data))\n",
    "    print('max:',np.amax(state_data))\n",
    "    print()\n",
    "\n",
    "fig = plt.figure(figsize=(12,8))\n",
    "ax = fig.add_subplot(111)\n",
    "boxplot_ax = ax.boxplot(plot_data)\n",
    "_ = ax.set_xticklabels(tick_labels)"
   ]
  }
 ],
 "metadata": {
  "kernelspec": {
   "display_name": "Python 3",
   "language": "python",
   "name": "python3"
  },
  "language_info": {
   "codemirror_mode": {
    "name": "ipython",
    "version": 3
   },
   "file_extension": ".py",
   "mimetype": "text/x-python",
   "name": "python",
   "nbconvert_exporter": "python",
   "pygments_lexer": "ipython3",
   "version": "3.5.2"
  }
 },
 "nbformat": 4,
 "nbformat_minor": 2
}
