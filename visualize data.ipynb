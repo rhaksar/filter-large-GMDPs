{
 "cells": [
  {
   "cell_type": "markdown",
   "metadata": {},
   "source": [
    "setup"
   ]
  },
  {
   "cell_type": "code",
   "execution_count": 1,
   "metadata": {},
   "outputs": [],
   "source": [
    "import copy\n",
    "import matplotlib.pyplot as plt\n",
    "import numpy as np\n",
    "import pickle\n",
    "\n",
    "%matplotlib inline\n",
    "%load_ext autoreload\n",
    "%autoreload 2"
   ]
  },
  {
   "cell_type": "code",
   "execution_count": null,
   "metadata": {},
   "outputs": [],
   "source": []
  },
  {
   "cell_type": "code",
   "execution_count": null,
   "metadata": {},
   "outputs": [],
   "source": []
  },
  {
   "cell_type": "markdown",
   "metadata": {},
   "source": [
    "First set of results\n",
    "\n",
    "- 3x3 grid size\n",
    "- 100 simulations \n",
    "- methods:\n",
    "    1. exact\n",
    "    2. LBP [Kmax=1,Kmax=10]\n",
    "    3. VI [Kmax=1,Kmax=10]"
   ]
  },
  {
   "cell_type": "code",
   "execution_count": 212,
   "metadata": {},
   "outputs": [
    {
     "data": {
      "text/plain": [
       "Text(0.5,1,'3x3 Forest || 100 Simulations')"
      ]
     },
     "execution_count": 212,
     "metadata": {},
     "output_type": "execute_result"
    },
    {
     "data": {
      "image/png": "[encoded data removed]",
      "text/plain": [
       "<Figure size 1200x800 with 1 Axes>"
      ]
     },
     "metadata": {},
     "output_type": "display_data"
    }
   ],
   "source": [
    "plot_data = []\n",
    "tick_labels = []\n",
    "\n",
    "# import and add measurement stats from a file\n",
    "file = 'ex_gs3_s100.pkl'\n",
    "# file = 'mp_gs3_K10_CNone_s100.pkl'\n",
    "\n",
    "pkl_file = open('data files/'+file, 'rb')\n",
    "data = pickle.load(pkl_file)\n",
    "pkl_file.close()\n",
    "\n",
    "grid_size = data['grid_size']\n",
    "meas_accuracy = []\n",
    "for s in data.keys():\n",
    "    if isinstance(s, int):\n",
    "        errors = data[s]['meas_error']\n",
    "        accuracies_pct = [(grid_size**2 - e)*100/grid_size**2 for e in errors]\n",
    "        meas_accuracy.append(np.median(accuracies_pct))\n",
    "\n",
    "plot_data.append(meas_accuracy)\n",
    "tick_labels.append('Measurement')\n",
    "\n",
    "# import and add results from exact algorithm\n",
    "file_list = ['ex_gs3_s100.pkl']\n",
    "for file in file_list:\n",
    "    pkl_file = open('data files/'+file, 'rb')\n",
    "    data = pickle.load(pkl_file)\n",
    "    pkl_file.close()\n",
    "    \n",
    "    grid_size = data['grid_size']\n",
    "    state_accuracy = []\n",
    "    for s in data.keys():\n",
    "        if isinstance(s, int):\n",
    "            errors = data[s]['state_error']\n",
    "            accuracies_pct = [(grid_size**2 - e)*100/grid_size**2 for e in errors]\n",
    "            state_accuracy.append(np.median(accuracies_pct))\n",
    "            \n",
    "    plot_data.append(state_accuracy)\n",
    "    # tick_labels.append('ex_'+'gs'+str(grid_size))\n",
    "    tick_labels.append('Bayes Filter')\n",
    "\n",
    "# import and add results from LBP algorithm\n",
    "file_list = ['lbp_wh9_i1_h3_s100.pkl', 'lbp_wh9_i10_h3_s100.pkl']\n",
    "for file in file_list:\n",
    "    pkl_file = open('data files/'+file, 'rb')\n",
    "    data = pickle.load(pkl_file)\n",
    "    pkl_file.close()\n",
    "    \n",
    "    num_nodes = data['width']*data['height']\n",
    "    maxIterations = data['maxIterations']\n",
    "    state_accuracy = []\n",
    "    for s in data.keys():\n",
    "        if isinstance(s, int):\n",
    "            errors = data[s]['robotE']\n",
    "            accuracies_pct = [(num_nodes - e)*100/num_nodes for e in errors]\n",
    "            state_accuracy.append(np.median(accuracies_pct))\n",
    "            \n",
    "    plot_data.append(state_accuracy)\n",
    "    # tick_labels.append('lbp_'+'wh'+str(num_nodes)+'_i'+str(maxIterations))\n",
    "    tick_labels.append('Loopy\\nBelief Propagation\\n%d Max Iteration(s)' %maxIterations)\n",
    "    \n",
    "# import and add results from VI algorithm\n",
    "file_list = ['mp_gs3_K1_CNone_s100.pkl', 'mp_gs3_K10_CNone_s100.pkl']\n",
    "for file in file_list:\n",
    "    pkl_file = open('data files/'+file, 'rb')\n",
    "    data = pickle.load(pkl_file)\n",
    "    pkl_file.close()\n",
    "    \n",
    "    grid_size = data['grid_size']\n",
    "    Kparam = data['Kparam']\n",
    "    state_accuracy = []\n",
    "    for s in data.keys():\n",
    "        if isinstance(s, int):\n",
    "            errors = data[s]['state_error']\n",
    "            accuracies_pct = [(grid_size**2 - e)*100/grid_size**2 for e in errors]\n",
    "            state_accuracy.append(np.median(accuracies_pct))\n",
    "            \n",
    "    plot_data.append(state_accuracy)\n",
    "    # tick_labels.append('mp_'+'gs'+str(grid_size)+'_k'+str(Kparam))\n",
    "    tick_labels.append('Message Passing\\n%d Max Iteration(s)' %Kparam)\n",
    "\n",
    "# plot results\n",
    "fig = plt.figure(figsize=(12,8))\n",
    "ax = fig.add_subplot(111)\n",
    "boxplot_ax = ax.boxplot(plot_data, whis='range', showmeans=True)\n",
    "_ = ax.set_xticklabels(tick_labels)\n",
    "ax.set_ylim([-5,105])\n",
    "ax.set_yticks(np.arange(0, 110, 10.0))\n",
    "ax.set_ylabel('Accuracy [%]')\n",
    "ax.set_title('3x3 Forest || 100 Simulations')"
   ]
  },
  {
   "cell_type": "code",
   "execution_count": null,
   "metadata": {},
   "outputs": [],
   "source": []
  },
  {
   "cell_type": "code",
   "execution_count": null,
   "metadata": {},
   "outputs": [],
   "source": []
  },
  {
   "cell_type": "markdown",
   "metadata": {},
   "source": [
    "Second set of results\n",
    "- 10x10 grid size\n",
    "- 100 simulations\n",
    "- methods:\n",
    "    1. LBP [Kmax=1,Kmax=10] (to-do)\n",
    "    2. VI [Kmax=1,Kmax=10]"
   ]
  },
  {
   "cell_type": "code",
   "execution_count": 213,
   "metadata": {},
   "outputs": [
    {
     "data": {
      "text/plain": [
       "Text(0.5,1,'10x10 Forest || 100 Simulations')"
      ]
     },
     "execution_count": 213,
     "metadata": {},
     "output_type": "execute_result"
    },
    {
     "data": {
      "image/png": "[encoded data removed]",
      "text/plain": [
       "<Figure size 1200x800 with 1 Axes>"
      ]
     },
     "metadata": {},
     "output_type": "display_data"
    }
   ],
   "source": [
    "plot_data = []\n",
    "tick_labels = []\n",
    "\n",
    "# load measurement stats from a file\n",
    "file = 'mp_gs10_K10_CNone_s100.pkl'\n",
    "pkl_file = open('data files/'+file, 'rb')\n",
    "data = pickle.load(pkl_file)\n",
    "pkl_file.close()\n",
    "\n",
    "grid_size = data['grid_size']\n",
    "meas_accuracy = []\n",
    "for s in data.keys():\n",
    "    if isinstance(s, int):\n",
    "        errors = data[s]['meas_error']\n",
    "        accuracies_pct = [(grid_size**2 - e)*100/grid_size**2 for e in errors]\n",
    "        meas_accuracy.append(np.median(accuracies_pct))\n",
    "        \n",
    "plot_data.append(meas_accuracy)\n",
    "tick_labels.append('Measurement')\n",
    "\n",
    "# import and add results from LBP algorithm\n",
    "file_list = ['lbp_wh100_i1_h3_s100.pkl', 'lbp_wh100_i10_h3_s100.pkl']\n",
    "for file in file_list:\n",
    "    pkl_file = open('data files/'+file, 'rb')\n",
    "    data = pickle.load(pkl_file)\n",
    "    pkl_file.close()\n",
    "    \n",
    "    num_nodes = data['width']*data['height']\n",
    "    maxIterations = data['maxIterations']\n",
    "    state_accuracy = []\n",
    "    for s in data.keys():\n",
    "        if isinstance(s, int):\n",
    "            errors = data[s]['robotE']\n",
    "            accuracies_pct = [(num_nodes - e)*100/num_nodes for e in errors]\n",
    "            state_accuracy.append(np.median(accuracies_pct))\n",
    "            \n",
    "    plot_data.append(state_accuracy)\n",
    "    tick_labels.append('Loopy\\nBelief Propagation\\n%d Max Iteration(s)' %maxIterations)\n",
    "\n",
    "# import and add results from VI algorithm\n",
    "file_list = ['mp_gs10_K1_CNone_s100.pkl', 'mp_gs10_K10_CNone_s100.pkl']\n",
    "for file in file_list:\n",
    "    pkl_file = open('data files/'+file, 'rb')\n",
    "    data = pickle.load(pkl_file)\n",
    "    pkl_file.close()\n",
    "    \n",
    "    grid_size = data['grid_size']\n",
    "    Kparam = data['Kparam']\n",
    "\n",
    "    state_accuracy = []\n",
    "    for s in data.keys():\n",
    "        if isinstance(s, int):\n",
    "            errors = data[s]['state_error']\n",
    "            accuracies_pct = [(grid_size**2 - e)*100/grid_size**2 for e in errors]\n",
    "            state_accuracy.append(np.median(accuracies_pct))\n",
    "            \n",
    "    plot_data.append(state_accuracy)\n",
    "    tick_labels.append('Message Passing\\n%d Max Iteration(s)' %Kparam)\n",
    "    # tick_labels.append('mp_'+'gs'+str(grid_size)+'_k'+str(Kparam))\n",
    "    \n",
    "# plot results\n",
    "fig = plt.figure(figsize=(12,8))\n",
    "ax = fig.add_subplot(111)\n",
    "boxplot_ax = ax.boxplot(plot_data, whis='range', showmeans=True)\n",
    "_ = ax.set_xticklabels(tick_labels)\n",
    "ax.set_ylim([-5,105])\n",
    "ax.set_yticks(np.arange(0, 110, 10.0))\n",
    "ax.set_ylabel('Accuracy [%]')\n",
    "ax.set_title('10x10 Forest || 100 Simulations')"
   ]
  },
  {
   "cell_type": "code",
   "execution_count": null,
   "metadata": {},
   "outputs": [],
   "source": []
  },
  {
   "cell_type": "code",
   "execution_count": null,
   "metadata": {},
   "outputs": [],
   "source": []
  },
  {
   "cell_type": "code",
   "execution_count": null,
   "metadata": {},
   "outputs": [],
   "source": []
  },
  {
   "cell_type": "code",
   "execution_count": null,
   "metadata": {},
   "outputs": [],
   "source": [
    "plot_data = []\n",
    "tick_labels = []\n",
    "#for file in os.listdir('data files'):\n",
    "#    if file.startswith('mp'):\n",
    "\n",
    "file_list = ['mp_gs10_K1_CNone_s100.pkl','mp_gs10_K3_CNone_s100.pkl','mp_gs10_K5_CNone_s100.pkl',\n",
    "              'lbp_wh100_s1.pkl']\n",
    "grid_size = 10\n",
    "\n",
    "# file_list = ['mp_gs25_K1_CNone_s10.pkl','mp_gs25_K5_CNone_s10.pkl']\n",
    "\n",
    "# file_list = ['lbp_wh4_s100.pkl']\n",
    "# grid_size = 2\n",
    "\n",
    "for file in file_list:\n",
    "    pkl_file = open('data files/'+file, 'rb')\n",
    "    data = pickle.load(pkl_file)\n",
    "    pkl_file.close()\n",
    "\n",
    "    if not plot_data:\n",
    "        meas_data = [np.median(data[s]['meas_error'])*100/grid_size**2 for s in data.keys()]\n",
    "        plot_data.append(meas_data)\n",
    "        tick_labels.append('Measurement')\n",
    "\n",
    "        print('measurement')\n",
    "        print('min:',np.amin(meas_data))\n",
    "        print('Q1,Q3:',np.percentile(meas_data,[25,75]))\n",
    "        print('median:',np.median(meas_data))\n",
    "        print('max:',np.amax(meas_data))\n",
    "        print()\n",
    "\n",
    "    try:\n",
    "        state_data = [np.median(data[s]['state_error'])*100/grid_size**2 for s in data.keys()]\n",
    "    except:\n",
    "        pass\n",
    "    try:\n",
    "        state_data = [np.median(data[s]['robotE'])*100/grid_size**2 for s in data.keys()]\n",
    "        print(state_data)\n",
    "    except:\n",
    "        pass\n",
    "    plot_data.append(state_data)\n",
    "    tick_labels.append(file)\n",
    "    \n",
    "    print(file)\n",
    "    print('min:',np.amin(state_data))\n",
    "    print('Q1,Q3:',np.percentile(state_data,[25,75]))\n",
    "    print('median:',np.median(state_data))\n",
    "    print('max:',np.amax(state_data))\n",
    "    print()\n",
    "\n",
    "fig = plt.figure(figsize=(12,8))\n",
    "ax = fig.add_subplot(111)\n",
    "boxplot_ax = ax.boxplot(plot_data)\n",
    "_ = ax.set_xticklabels(tick_labels)"
   ]
  }
 ],
 "metadata": {
  "kernelspec": {
   "display_name": "Python 3",
   "language": "python",
   "name": "python3"
  },
  "language_info": {
   "codemirror_mode": {
    "name": "ipython",
    "version": 3
   },
   "file_extension": ".py",
   "mimetype": "text/x-python",
   "name": "python",
   "nbconvert_exporter": "python",
   "pygments_lexer": "ipython3",
   "version": "3.5.2"
  }
 },
 "nbformat": 4,
 "nbformat_minor": 2
}
