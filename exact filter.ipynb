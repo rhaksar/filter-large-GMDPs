{
 "cells": [
  {
   "cell_type": "code",
   "execution_count": 1,
   "metadata": {
    "collapsed": false
   },
   "outputs": [],
   "source": [
    "from FireSimulator import *\n",
    "\n",
    "import copy\n",
    "import matplotlib.pyplot as plt\n",
    "import matplotlib.patches as patches\n",
    "import numpy as np\n",
    "import operator\n",
    "import os\n",
    "import sys\n",
    "import time\n",
    "\n",
    "%matplotlib inline\n",
    "%load_ext autoreload\n",
    "%autoreload 2"
   ]
  },
  {
   "cell_type": "code",
   "execution_count": null,
   "metadata": {
    "collapsed": true
   },
   "outputs": [],
   "source": []
  },
  {
   "cell_type": "code",
   "execution_count": 2,
   "metadata": {
    "collapsed": false
   },
   "outputs": [],
   "source": [
    "def visualize_forest(axis_handle, data):\n",
    "    r, c = data.shape\n",
    "    \n",
    "    rectangles = {}\n",
    "    for i in range(r):\n",
    "        for j in range(c):\n",
    "            x = col_to_x(j)\n",
    "            y = row_to_y(grid_size,i)\n",
    "            rectangles[(i,j)] = patches.Rectangle((x-0.5,y-0.5),1,1,alpha=0.6)\n",
    "        \n",
    "    \n",
    "    for i in range(r):\n",
    "        for j in range(c):\n",
    "\n",
    "            rect = rectangles[(i,j)]\n",
    "\n",
    "            if data[i,j] == 0:\n",
    "                rect.set_color('g')\n",
    "            elif data[i,j] == 1:\n",
    "                rect.set_color('r')\n",
    "            elif data[i,j] == 2:\n",
    "                rect.set_color('k')\n",
    "\n",
    "            axis_handle.add_patch(rect)\n",
    "  \n",
    "    return axis_handle"
   ]
  },
  {
   "cell_type": "code",
   "execution_count": null,
   "metadata": {
    "collapsed": true
   },
   "outputs": [],
   "source": []
  },
  {
   "cell_type": "code",
   "execution_count": 34,
   "metadata": {
    "collapsed": true
   },
   "outputs": [],
   "source": [
    "grid_size = 3\n",
    "dp = 0\n",
    "alpha = 0.2763\n",
    "beta = np.exp(-0.1)\n",
    "\n",
    "nn = [(-1,0),(1,0),(0,-1),(0,1)]\n",
    "\n",
    "neighbors = {}\n",
    "for i in range(grid_size):\n",
    "    for j in range(grid_size):\n",
    "        neighbors[(i,j)] = []\n",
    "        \n",
    "        for (di,dj) in nn:\n",
    "            ii = i + di\n",
    "            jj = j + dj\n",
    "            if ii>=0 and ii<grid_size and jj>=0 and jj<grid_size:\n",
    "                neighbors[(i,j)].append((ii,jj))"
   ]
  },
  {
   "cell_type": "code",
   "execution_count": null,
   "metadata": {
    "collapsed": true
   },
   "outputs": [],
   "source": []
  },
  {
   "cell_type": "code",
   "execution_count": 35,
   "metadata": {
    "collapsed": true
   },
   "outputs": [],
   "source": [
    "meas_right = 0.9\n",
    "meas_wrong = 0.5*(1-meas_right)\n",
    "def measurement(xi_t, yi_t):\n",
    "    if xi_t != yi_t:\n",
    "        return meas_wrong\n",
    "    elif xi_t == yi_t:\n",
    "        return meas_right"
   ]
  },
  {
   "cell_type": "code",
   "execution_count": 36,
   "metadata": {
    "collapsed": false
   },
   "outputs": [],
   "source": [
    "def ReachableStates(state, neighbors):\n",
    "    Rstates = {}\n",
    "    num_nodes = len(state)\n",
    "    dim = int(np.sqrt(num_nodes))\n",
    "    \n",
    "    def generate(Rstates, state, el = 0, p = 1):\n",
    "        \n",
    "        if el < num_nodes:\n",
    "            if state[el] == 0:\n",
    "                nnof = 0\n",
    "                row, col = np.unravel_index(el,(dim,dim),order='C')\n",
    "                \n",
    "                for (r,c) in neighbors[(row,col)]:\n",
    "                    n_ind = np.ravel_multi_index([[r],[c]],(dim,dim),order='C')\n",
    "                    if state[n_ind] == 1:\n",
    "                        nnof += 1\n",
    "                \n",
    "                if nnof == 0:\n",
    "                    generate(Rstates, state, el=el+1, p = p)\n",
    "                    return\n",
    "                \n",
    "                pmod = (1-alpha)**nnof\n",
    "                \n",
    "                mod_state = copy.copy(state)\n",
    "                mod_state[el] += 1\n",
    "                generate(Rstates, mod_state, el=el+1, p=p*(1-pmod))\n",
    "                \n",
    "                generate(Rstates, state, el=el+1, p=p*pmod)\n",
    "                return \n",
    "            \n",
    "            elif state[el] == 1:\n",
    "                mod_state = copy.copy(state)\n",
    "                mod_state[el] += 1\n",
    "                generate(Rstates, mod_state, el=el+1, p=p*(1-beta))\n",
    "\n",
    "                generate(Rstates, state, el=el+1, p=p*beta)\n",
    "                return \n",
    "\n",
    "            elif state[el] == 2:\n",
    "                generate(Rstates, state, el=el+1, p=p)\n",
    "                return \n",
    "        \n",
    "        else:\n",
    "            key = ''.join(str(e) for e in state)\n",
    "            Rstates[key] = p\n",
    "            return \n",
    "        \n",
    "    generate(Rstates, state)\n",
    "    return Rstates\n",
    "            "
   ]
  },
  {
   "cell_type": "code",
   "execution_count": 37,
   "metadata": {
    "collapsed": true
   },
   "outputs": [],
   "source": [
    "def exact_method(belief, neighbors, grid_size, meas_data):\n",
    "    \n",
    "    next_belief = {}\n",
    "    \n",
    "    p_xt = {}\n",
    "    for i in range(3**(grid_size**2)):\n",
    "        x_tm1 = np.base_repr(i, base=3).zfill(grid_size**2)\n",
    "        \n",
    "        x_tm1_arr = np.array(list(x_tm1), dtype=int)\n",
    "        Rstates = ReachableStates(x_tm1_arr, neighbors)\n",
    "        for key in Rstates.keys():\n",
    "            p_xt.setdefault(key, 0)\n",
    "            p_xt[key] += Rstates.get(key, 0)*belief[x_tm1]\n",
    "            \n",
    "    normalize = 0\n",
    "    for i in range(3**(grid_size**2)):\n",
    "        x_t = np.base_repr(i, base=3).zfill(grid_size**2)\n",
    "        next_belief[x_t] = 0\n",
    "        \n",
    "        meas_prob = 1\n",
    "        for el in range(grid_size**2):\n",
    "            row, col = np.unravel_index(el,(grid_size,grid_size),order='C')\n",
    "            meas_prob *= measurement(int(x_t[el]), meas_data[row,col])\n",
    "            \n",
    "        next_belief[x_t] = meas_prob * p_xt.get(x_t, 0)\n",
    "        normalize += next_belief[x_t]\n",
    "        \n",
    "    for key in next_belief:\n",
    "        next_belief[key] /= normalize\n",
    "    \n",
    "    return next_belief"
   ]
  },
  {
   "cell_type": "code",
   "execution_count": 38,
   "metadata": {
    "collapsed": false,
    "scrolled": false
   },
   "outputs": [
    {
     "name": "stdout",
     "output_type": "stream",
     "text": [
      "number of sim iterations 33\n",
      "median percent error: 0.000\n",
      "mean percent error: 4.514\n",
      "max percent error: 22.222\n",
      "min percent error: 0.000\n",
      "628.27s = 10.47m elapsed\n"
     ]
    }
   ],
   "source": [
    "np.random.seed(1000)\n",
    "\n",
    "fire_init = [(int(grid_size/2)+1,int(grid_size/2)+1)]\n",
    "sim = FireSimulator(grid_size, alpha=alpha, beta=beta, fire_init=fire_init)\n",
    "\n",
    "belief = {}\n",
    "for i in range(3**(grid_size**2)):\n",
    "    x = np.base_repr(i, base=3).zfill(grid_size**2)\n",
    "    belief[x] = 1./(3**(grid_size**2))\n",
    "\n",
    "meas_data = sim.state\n",
    "\n",
    "state_est_str = '0' * grid_size**2 \n",
    "state_est = np.array(list(state_est_str), dtype=int).reshape(grid_size,grid_size)\n",
    "\n",
    "meas_errors = []\n",
    "state_errors = []\n",
    "\n",
    "plotting = False\n",
    "\n",
    "if plotting:\n",
    "    fig = plt.figure(figsize=(15,15))\n",
    "\n",
    "    ax1 = fig.add_subplot(131, aspect='equal')\n",
    "    ax1.set_xlim([0,grid_size+1])\n",
    "    ax1.set_ylim([0,grid_size+1])\n",
    "    plt.title('ground truth\\nt = %d' %sim.iter)\n",
    "    plt.tick_params(axis='both', which='both', labelbottom=False, labelleft=False, bottom=False, left=False)\n",
    "    ax1 = visualize_forest(ax1, sim.state)\n",
    "\n",
    "    ax2 = fig.add_subplot(132, aspect='equal')\n",
    "    ax2.set_xlim([0,grid_size+1])\n",
    "    ax2.set_ylim([0,grid_size+1])\n",
    "    plt.title('measurement: %d error(s)\\nt = %d' %(np.sum(meas_data != sim.state),sim.iter))\n",
    "    plt.tick_params(axis='both', which='both', labelbottom=False, labelleft=False, bottom=False, left=False)\n",
    "    ax2 = visualize_forest(ax2, meas_data)\n",
    "\n",
    "    ax3 = fig.add_subplot(133, aspect='equal')\n",
    "    ax3.set_xlim([0,grid_size+1])\n",
    "    ax3.set_ylim([0,grid_size+1])\n",
    "    plt.tick_params(axis='both', which='both', labelbottom=False, labelleft=False, bottom=False, left=False)\n",
    "    plt.title('estimate: %d error(s)\\nt = %d' %(np.sum(state_est != sim.state),sim.iter))\n",
    "    ax3 = visualize_forest(ax3, state_est)\n",
    "    \n",
    "    rows, cols = np.where(state_est != sim.state)\n",
    "    for i, j in zip(rows, cols):\n",
    "        x = col_to_x(j)\n",
    "        y = row_to_y(grid_size, i)\n",
    "        plt.plot(x, y, marker='o', color='b')\n",
    "                \n",
    "tic = time.clock()\n",
    "# for _ in range(5):\n",
    "while not sim.end:\n",
    "    \n",
    "    sim.step([], dbeta=dp)\n",
    "    \n",
    "    meas_data = np.zeros_like(sim.state) + -1\n",
    "    for i in range(grid_size):\n",
    "        for j in range(grid_size):\n",
    "            \n",
    "            meas = sim.state[i,j]\n",
    "            p_list = [meas_wrong,meas_wrong,meas_wrong]\n",
    "            p_list[meas] += meas_right - meas_wrong\n",
    "            meas_data[i,j] = np.random.choice([0,1,2], p=p_list)\n",
    "    \n",
    "    belief = exact_method(belief, neighbors, grid_size, meas_data)\n",
    "\n",
    "    state_est_str = max(belief.items(), key=operator.itemgetter(1))[0]\n",
    "    state_est = np.array(list(state_est_str), dtype=int).reshape(grid_size,grid_size)\n",
    "    \n",
    "    state_errors.append(np.sum(state_est != sim.state))\n",
    "    meas_errors.append(np.sum(meas_data != sim.state))\n",
    "    \n",
    "    if plotting:\n",
    "        fig = plt.figure(figsize=(15,15))\n",
    "\n",
    "        ax1 = fig.add_subplot(131, aspect='equal')\n",
    "        ax1.set_xlim([0,grid_size+1])\n",
    "        ax1.set_ylim([0,grid_size+1])\n",
    "        plt.title('ground truth\\nt = %d' %sim.iter)\n",
    "        plt.tick_params(axis='both', which='both', labelbottom=False, labelleft=False, bottom=False, left=False)\n",
    "        ax1 = visualize_forest(ax1, sim.state)\n",
    "\n",
    "        ax2 = fig.add_subplot(132, aspect='equal')\n",
    "        ax2.set_xlim([0,grid_size+1])\n",
    "        ax2.set_ylim([0,grid_size+1])\n",
    "        plt.title('measurement: %d error(s)\\nt = %d' %(np.sum(meas_data != sim.state),sim.iter))\n",
    "        plt.tick_params(axis='both', which='both', labelbottom=False, labelleft=False, bottom=False, left=False)\n",
    "        ax2 = visualize_forest(ax2, meas_data)\n",
    "\n",
    "        ax3 = fig.add_subplot(133, aspect='equal')\n",
    "        ax3.set_xlim([0,grid_size+1])\n",
    "        ax3.set_ylim([0,grid_size+1])\n",
    "        plt.tick_params(axis='both', which='both', labelbottom=False, labelleft=False, bottom=False, left=False)\n",
    "        plt.title('estimate: %d error(s)\\nt = %d' %(np.sum(state_est != sim.state),sim.iter))\n",
    "        ax3 = visualize_forest(ax3, state_est)\n",
    "\n",
    "        rows, cols = np.where(state_est != sim.state)\n",
    "        for i, j in zip(rows, cols):\n",
    "            x = col_to_x(j)\n",
    "            y = row_to_y(grid_size, i)\n",
    "            plt.plot(x, y, marker='o', color='b')\n",
    "            \n",
    "    #print('sim iteration:',sim.iter)\n",
    "    \n",
    "toc = time.clock()\n",
    "print('number of sim iterations',sim.iter)\n",
    "print('median percent error: %0.3f' %(np.median(state_errors)*100/grid_size**2))\n",
    "print('mean percent error: %0.3f' %(np.mean(state_errors)*100/grid_size**2))\n",
    "print('max percent error: %0.3f' %(np.amax(state_errors)*100/grid_size**2))\n",
    "print('min percent error: %0.3f' %(np.amin(state_errors)*100/grid_size**2))\n",
    "print('%0.2fs = %0.2fm elapsed' % (toc-tic,(toc-tic)/60))"
   ]
  },
  {
   "cell_type": "code",
   "execution_count": 39,
   "metadata": {
    "collapsed": false
   },
   "outputs": [
    {
     "data": {
      "text/plain": [
       "<matplotlib.legend.Legend at 0x7fc6e75535c0>"
      ]
     },
     "execution_count": 39,
     "metadata": {},
     "output_type": "execute_result"
    },
    {
     "data": {
      "image/png": "[encoded data removed]",
      "text/plain": [
       "<matplotlib.figure.Figure at 0x7fc6e7cb6c18>"
      ]
     },
     "metadata": {},
     "output_type": "display_data"
    }
   ],
   "source": [
    "plot_state_errors = [100*e/grid_size**2 for e in state_errors]\n",
    "plot_meas_errors = [100*e/grid_size**2 for e in meas_errors]\n",
    "\n",
    "plt.figure(figsize=(12,8))\n",
    "plt.plot(plot_state_errors)\n",
    "plt.plot(plot_meas_errors)\n",
    "plt.plot(range(len(plot_meas_errors)),np.median(plot_meas_errors)*np.ones(len(plot_meas_errors)), \\\n",
    "         label='median measurement error')\n",
    "plt.plot(range(len(plot_meas_errors)),np.mean(plot_meas_errors)*np.ones(len(plot_meas_errors)), \\\n",
    "         label='mean measurement error')\n",
    "plt.plot(range(len(plot_state_errors)),np.median(plot_state_errors)*np.ones(len(plot_state_errors)), \\\n",
    "         label='median state error')\n",
    "plt.plot(range(len(plot_state_errors)),np.mean(plot_state_errors)*np.ones(len(plot_state_errors)), \\\n",
    "         label='mean state error')\n",
    "\n",
    "plt.title('median percent error: %0.2f || mean percent error: %0.2f' \\\n",
    "          %(np.median(state_errors)*100/grid_size**2,np.mean(state_errors)*100/grid_size**2))\n",
    "plt.ylabel('percent error')\n",
    "plt.xlabel('iteration')\n",
    "\n",
    "plt.legend(loc=1)"
   ]
  },
  {
   "cell_type": "code",
   "execution_count": null,
   "metadata": {
    "collapsed": true
   },
   "outputs": [],
   "source": []
  },
  {
   "cell_type": "code",
   "execution_count": null,
   "metadata": {
    "collapsed": true
   },
   "outputs": [],
   "source": []
  },
  {
   "cell_type": "code",
   "execution_count": null,
   "metadata": {
    "collapsed": true
   },
   "outputs": [],
   "source": []
  },
  {
   "cell_type": "code",
   "execution_count": null,
   "metadata": {
    "collapsed": true
   },
   "outputs": [],
   "source": []
  },
  {
   "cell_type": "code",
   "execution_count": null,
   "metadata": {
    "collapsed": true
   },
   "outputs": [],
   "source": []
  }
 ],
 "metadata": {
  "kernelspec": {
   "display_name": "Python 3",
   "language": "python",
   "name": "python3"
  },
  "language_info": {
   "codemirror_mode": {
    "name": "ipython",
    "version": 3
   },
   "file_extension": ".py",
   "mimetype": "text/x-python",
   "name": "python",
   "nbconvert_exporter": "python",
   "pygments_lexer": "ipython3",
   "version": "3.5.2"
  }
 },
 "nbformat": 4,
 "nbformat_minor": 0
}
