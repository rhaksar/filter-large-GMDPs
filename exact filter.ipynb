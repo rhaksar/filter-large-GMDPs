{
 "cells": [
  {
   "cell_type": "markdown",
   "metadata": {},
   "source": [
    "setup "
   ]
  },
  {
   "cell_type": "code",
   "execution_count": 39,
   "metadata": {
    "collapsed": false
   },
   "outputs": [
    {
     "name": "stdout",
     "output_type": "stream",
     "text": [
      "The autoreload extension is already loaded. To reload it, use:\n",
      "  %reload_ext autoreload\n"
     ]
    }
   ],
   "source": [
    "from FireSimulator import *\n",
    "\n",
    "import copy\n",
    "from datetime import datetime\n",
    "import matplotlib.pyplot as plt\n",
    "import matplotlib.patches as patches\n",
    "import numpy as np\n",
    "import operator\n",
    "import os\n",
    "import pdb\n",
    "import pickle\n",
    "import sys\n",
    "import time\n",
    "\n",
    "%matplotlib inline\n",
    "%load_ext autoreload\n",
    "%autoreload 2"
   ]
  },
  {
   "cell_type": "markdown",
   "metadata": {},
   "source": [
    "function to visualize forest"
   ]
  },
  {
   "cell_type": "code",
   "execution_count": 11,
   "metadata": {
    "collapsed": false
   },
   "outputs": [],
   "source": [
    "def visualize_forest(axis_handle, data):\n",
    "    r, c = data.shape\n",
    "    \n",
    "    rectangles = {}\n",
    "    for i in range(r):\n",
    "        for j in range(c):\n",
    "            x = col_to_x(j)\n",
    "            y = row_to_y(grid_size,i)\n",
    "            rectangles[(i,j)] = patches.Rectangle((x-0.5,y-0.5),1,1,alpha=0.6)\n",
    "        \n",
    "    \n",
    "    for i in range(r):\n",
    "        for j in range(c):\n",
    "\n",
    "            rect = rectangles[(i,j)]\n",
    "\n",
    "            if data[i,j] == 0:\n",
    "                rect.set_color('g')\n",
    "            elif data[i,j] == 1:\n",
    "                rect.set_color('r')\n",
    "            elif data[i,j] == 2:\n",
    "                rect.set_color('k')\n",
    "\n",
    "            axis_handle.add_patch(rect)\n",
    "  \n",
    "    return axis_handle"
   ]
  },
  {
   "cell_type": "markdown",
   "metadata": {},
   "source": [
    "simulation parameters"
   ]
  },
  {
   "cell_type": "code",
   "execution_count": 21,
   "metadata": {
    "collapsed": true
   },
   "outputs": [],
   "source": [
    "grid_size = 2\n",
    "dp = 0\n",
    "alpha = 0.2763\n",
    "beta = np.exp(-0.1)\n",
    "\n",
    "nn = [(-1,0),(1,0),(0,-1),(0,1)]\n",
    "\n",
    "neighbors = {}\n",
    "for i in range(grid_size):\n",
    "    for j in range(grid_size):\n",
    "        neighbors[(i,j)] = []\n",
    "        \n",
    "        for (di,dj) in nn:\n",
    "            ii = i + di\n",
    "            jj = j + dj\n",
    "            if ii>=0 and ii<grid_size and jj>=0 and jj<grid_size:\n",
    "                neighbors[(i,j)].append((ii,jj))"
   ]
  },
  {
   "cell_type": "markdown",
   "metadata": {},
   "source": [
    "point-to-point measurement function"
   ]
  },
  {
   "cell_type": "code",
   "execution_count": 22,
   "metadata": {
    "collapsed": true
   },
   "outputs": [],
   "source": [
    "meas_right = 0.9\n",
    "meas_wrong = 0.5*(1-meas_right)\n",
    "def measurement(xi_t, yi_t):\n",
    "    if xi_t != yi_t:\n",
    "        return meas_wrong\n",
    "    elif xi_t == yi_t:\n",
    "        return meas_right"
   ]
  },
  {
   "cell_type": "markdown",
   "metadata": {},
   "source": [
    "helper function to generate 'reachable' (non-zero probability) states from a given state"
   ]
  },
  {
   "cell_type": "code",
   "execution_count": 23,
   "metadata": {
    "collapsed": false
   },
   "outputs": [],
   "source": [
    "def ReachableStates(state, neighbors):\n",
    "    Rstates = {}\n",
    "    num_nodes = len(state)\n",
    "    dim = int(np.sqrt(num_nodes))\n",
    "    \n",
    "    def generate(Rstates, state, el = 0, p = 1):\n",
    "        \n",
    "        if el < num_nodes:\n",
    "            if state[el] == 0:\n",
    "                nnof = 0\n",
    "                row, col = np.unravel_index(el,(dim,dim),order='C')\n",
    "                \n",
    "                for (r,c) in neighbors[(row,col)]:\n",
    "                    n_ind = np.ravel_multi_index([[r],[c]],(dim,dim),order='C')\n",
    "                    if state[n_ind] == 1:\n",
    "                        nnof += 1\n",
    "                \n",
    "                if nnof == 0:\n",
    "                    generate(Rstates, state, el=el+1, p = p)\n",
    "                    return\n",
    "                \n",
    "                pmod = (1-alpha)**nnof\n",
    "                \n",
    "                mod_state = copy.copy(state)\n",
    "                mod_state[el] += 1\n",
    "                generate(Rstates, mod_state, el=el+1, p=p*(1-pmod))\n",
    "                \n",
    "                generate(Rstates, state, el=el+1, p=p*pmod)\n",
    "                return \n",
    "            \n",
    "            elif state[el] == 1:\n",
    "                mod_state = copy.copy(state)\n",
    "                mod_state[el] += 1\n",
    "                generate(Rstates, mod_state, el=el+1, p=p*(1-beta))\n",
    "\n",
    "                generate(Rstates, state, el=el+1, p=p*beta)\n",
    "                return \n",
    "\n",
    "            elif state[el] == 2:\n",
    "                generate(Rstates, state, el=el+1, p=p)\n",
    "                return \n",
    "        \n",
    "        else:\n",
    "            key = ''.join(str(e) for e in state)\n",
    "            Rstates[key] = p\n",
    "            return \n",
    "        \n",
    "    generate(Rstates, state)\n",
    "    return Rstates\n",
    "            "
   ]
  },
  {
   "cell_type": "markdown",
   "metadata": {},
   "source": [
    "exact Bayes filter implementation"
   ]
  },
  {
   "cell_type": "code",
   "execution_count": 24,
   "metadata": {
    "collapsed": true
   },
   "outputs": [],
   "source": [
    "def exact_method(belief, neighbors, grid_size, meas_data):\n",
    "    \n",
    "    next_belief = {}\n",
    "    \n",
    "    p_xt = {}\n",
    "    for i in range(3**(grid_size**2)):\n",
    "        x_tm1 = np.base_repr(i, base=3).zfill(grid_size**2)\n",
    "        \n",
    "        x_tm1_arr = np.array(list(x_tm1), dtype=int)\n",
    "        Rstates = ReachableStates(x_tm1_arr, neighbors)\n",
    "        for key in Rstates.keys():\n",
    "            p_xt.setdefault(key, 0)\n",
    "            p_xt[key] += Rstates.get(key, 0)*belief[x_tm1]\n",
    "            \n",
    "    normalize = 0\n",
    "    for i in range(3**(grid_size**2)):\n",
    "        x_t = np.base_repr(i, base=3).zfill(grid_size**2)\n",
    "        next_belief[x_t] = 0\n",
    "        \n",
    "        meas_prob = 1\n",
    "        for el in range(grid_size**2):\n",
    "            row, col = np.unravel_index(el,(grid_size,grid_size),order='C')\n",
    "            meas_prob *= measurement(int(x_t[el]), meas_data[row,col])\n",
    "            \n",
    "        next_belief[x_t] = meas_prob * p_xt.get(x_t, 0)\n",
    "        normalize += next_belief[x_t]\n",
    "        \n",
    "    for key in next_belief:\n",
    "        next_belief[key] /= normalize\n",
    "    \n",
    "    return next_belief"
   ]
  },
  {
   "cell_type": "markdown",
   "metadata": {},
   "source": [
    "run a simulation"
   ]
  },
  {
   "cell_type": "code",
   "execution_count": 25,
   "metadata": {
    "collapsed": false,
    "scrolled": false
   },
   "outputs": [
    {
     "name": "stdout",
     "output_type": "stream",
     "text": [
      "number of sim iterations 10\n",
      "median percent error: 0.000\n",
      "mean percent error: 8.333\n",
      "max percent error: 25.000\n",
      "min percent error: 0.000\n",
      "0.13s = 0.00m elapsed\n"
     ]
    }
   ],
   "source": [
    "np.random.seed(1000)\n",
    "\n",
    "fire_init = [(int(grid_size/2)+1,int(grid_size/2)+1)]\n",
    "sim = FireSimulator(grid_size, alpha=alpha, beta=beta, fire_init=fire_init)\n",
    "\n",
    "belief = {}\n",
    "# uniform initial belief\n",
    "for i in range(3**(grid_size**2)):\n",
    "    x = np.base_repr(i, base=3).zfill(grid_size**2)\n",
    "    belief[x] = 1./(3**(grid_size**2))\n",
    "    \n",
    "# exact initial belief\n",
    "for i in range(3**(grid_size**2)):\n",
    "    x = np.base_repr(i, base=3).zfill(grid_size**2)\n",
    "    belief[x] = 0\n",
    "state_str = ''.join([str(e) for e in ])\n",
    "\n",
    "meas_data = sim.state\n",
    "\n",
    "state_est_str = '0' * grid_size**2 \n",
    "state_est = np.array(list(state_est_str), dtype=int).reshape(grid_size,grid_size)\n",
    "\n",
    "meas_errors = []\n",
    "state_errors = []\n",
    "\n",
    "plotting = False\n",
    "\n",
    "if plotting:\n",
    "    fig = plt.figure(figsize=(15,15))\n",
    "\n",
    "    ax1 = fig.add_subplot(131, aspect='equal')\n",
    "    ax1.set_xlim([0,grid_size+1])\n",
    "    ax1.set_ylim([0,grid_size+1])\n",
    "    plt.title('ground truth\\nt = %d' %sim.iter)\n",
    "    plt.tick_params(axis='both', which='both', labelbottom=False, labelleft=False, bottom=False, left=False)\n",
    "    ax1 = visualize_forest(ax1, sim.state)\n",
    "\n",
    "    ax2 = fig.add_subplot(132, aspect='equal')\n",
    "    ax2.set_xlim([0,grid_size+1])\n",
    "    ax2.set_ylim([0,grid_size+1])\n",
    "    plt.title('measurement: %d error(s)\\nt = %d' %(np.sum(meas_data != sim.state),sim.iter))\n",
    "    plt.tick_params(axis='both', which='both', labelbottom=False, labelleft=False, bottom=False, left=False)\n",
    "    ax2 = visualize_forest(ax2, meas_data)\n",
    "\n",
    "    ax3 = fig.add_subplot(133, aspect='equal')\n",
    "    ax3.set_xlim([0,grid_size+1])\n",
    "    ax3.set_ylim([0,grid_size+1])\n",
    "    plt.tick_params(axis='both', which='both', labelbottom=False, labelleft=False, bottom=False, left=False)\n",
    "    plt.title('estimate: %d error(s)\\nt = %d' %(np.sum(state_est != sim.state),sim.iter))\n",
    "    ax3 = visualize_forest(ax3, state_est)\n",
    "    \n",
    "    rows, cols = np.where(state_est != sim.state)\n",
    "    for i, j in zip(rows, cols):\n",
    "        x = col_to_x(j)\n",
    "        y = row_to_y(grid_size, i)\n",
    "        plt.plot(x, y, marker='o', color='b')\n",
    "                \n",
    "tic = time.clock()\n",
    "# for _ in range(1):\n",
    "while not sim.end:\n",
    "    \n",
    "    sim.step([], dbeta=dp)\n",
    "    \n",
    "    meas_data = np.zeros_like(sim.state) + -1\n",
    "    for i in range(grid_size):\n",
    "        for j in range(grid_size):\n",
    "            \n",
    "            meas = sim.state[i,j]\n",
    "            p_list = [meas_wrong,meas_wrong,meas_wrong]\n",
    "            p_list[meas] += meas_right - meas_wrong\n",
    "            meas_data[i,j] = np.random.choice([0,1,2], p=p_list)\n",
    "    \n",
    "    belief = exact_method(belief, neighbors, grid_size, meas_data)\n",
    "\n",
    "    state_est_str = max(belief.items(), key=operator.itemgetter(1))[0]\n",
    "    state_est = np.array(list(state_est_str), dtype=int).reshape(grid_size,grid_size)\n",
    "    \n",
    "    state_errors.append(np.sum(state_est != sim.state))\n",
    "    meas_errors.append(np.sum(meas_data != sim.state))\n",
    "    \n",
    "    if plotting:\n",
    "        fig = plt.figure(figsize=(15,15))\n",
    "\n",
    "        ax1 = fig.add_subplot(131, aspect='equal')\n",
    "        ax1.set_xlim([0,grid_size+1])\n",
    "        ax1.set_ylim([0,grid_size+1])\n",
    "        plt.title('ground truth\\nt = %d' %sim.iter)\n",
    "        plt.tick_params(axis='both', which='both', labelbottom=False, labelleft=False, bottom=False, left=False)\n",
    "        ax1 = visualize_forest(ax1, sim.state)\n",
    "\n",
    "        ax2 = fig.add_subplot(132, aspect='equal')\n",
    "        ax2.set_xlim([0,grid_size+1])\n",
    "        ax2.set_ylim([0,grid_size+1])\n",
    "        plt.title('measurement: %d error(s)\\nt = %d' %(np.sum(meas_data != sim.state),sim.iter))\n",
    "        plt.tick_params(axis='both', which='both', labelbottom=False, labelleft=False, bottom=False, left=False)\n",
    "        ax2 = visualize_forest(ax2, meas_data)\n",
    "\n",
    "        ax3 = fig.add_subplot(133, aspect='equal')\n",
    "        ax3.set_xlim([0,grid_size+1])\n",
    "        ax3.set_ylim([0,grid_size+1])\n",
    "        plt.tick_params(axis='both', which='both', labelbottom=False, labelleft=False, bottom=False, left=False)\n",
    "        plt.title('estimate: %d error(s)\\nt = %d' %(np.sum(state_est != sim.state),sim.iter))\n",
    "        ax3 = visualize_forest(ax3, state_est)\n",
    "\n",
    "        rows, cols = np.where(state_est != sim.state)\n",
    "        for i, j in zip(rows, cols):\n",
    "            x = col_to_x(j)\n",
    "            y = row_to_y(grid_size, i)\n",
    "            plt.plot(x, y, marker='o', color='b')\n",
    "            \n",
    "    #print('sim iteration:',sim.iter)\n",
    "    \n",
    "toc = time.clock()\n",
    "print('number of sim iterations',sim.iter)\n",
    "print('median percent error: %0.3f' %(np.median(state_errors)*100/grid_size**2))\n",
    "print('mean percent error: %0.3f' %(np.mean(state_errors)*100/grid_size**2))\n",
    "print('max percent error: %0.3f' %(np.amax(state_errors)*100/grid_size**2))\n",
    "print('min percent error: %0.3f' %(np.amin(state_errors)*100/grid_size**2))\n",
    "print('%0.2fs = %0.2fm elapsed' % (toc-tic,(toc-tic)/60))"
   ]
  },
  {
   "cell_type": "code",
   "execution_count": 26,
   "metadata": {
    "collapsed": false
   },
   "outputs": [
    {
     "data": {
      "text/plain": [
       "<matplotlib.legend.Legend at 0x7faf312566d8>"
      ]
     },
     "execution_count": 26,
     "metadata": {},
     "output_type": "execute_result"
    },
    {
     "data": {
      "image/png": "[encoded data removed]",
      "text/plain": [
       "<Figure size 1200x800 with 1 Axes>"
      ]
     },
     "metadata": {},
     "output_type": "display_data"
    }
   ],
   "source": [
    "plot_state_errors = [100*e/grid_size**2 for e in state_errors]\n",
    "plot_meas_errors = [100*e/grid_size**2 for e in meas_errors]\n",
    "\n",
    "plt.figure(figsize=(12,8))\n",
    "plt.plot(plot_state_errors)\n",
    "plt.plot(plot_meas_errors)\n",
    "plt.plot(range(len(plot_meas_errors)),np.median(plot_meas_errors)*np.ones(len(plot_meas_errors)), \\\n",
    "         label='median measurement error')\n",
    "plt.plot(range(len(plot_meas_errors)),np.mean(plot_meas_errors)*np.ones(len(plot_meas_errors)), \\\n",
    "         label='mean measurement error')\n",
    "plt.plot(range(len(plot_state_errors)),np.median(plot_state_errors)*np.ones(len(plot_state_errors)), \\\n",
    "         label='median state error')\n",
    "plt.plot(range(len(plot_state_errors)),np.mean(plot_state_errors)*np.ones(len(plot_state_errors)), \\\n",
    "         label='mean state error')\n",
    "\n",
    "plt.title('median percent error: %0.2f || mean percent error: %0.2f' \\\n",
    "          %(np.median(state_errors)*100/grid_size**2,np.mean(state_errors)*100/grid_size**2))\n",
    "plt.ylabel('percent error')\n",
    "plt.xlabel('iteration')\n",
    "\n",
    "plt.legend(loc=1)"
   ]
  },
  {
   "cell_type": "code",
   "execution_count": null,
   "metadata": {
    "collapsed": true
   },
   "outputs": [],
   "source": []
  },
  {
   "cell_type": "markdown",
   "metadata": {},
   "source": [
    "benchmark"
   ]
  },
  {
   "cell_type": "code",
   "execution_count": 44,
   "metadata": {
    "collapsed": false
   },
   "outputs": [
    {
     "name": "stdout",
     "output_type": "stream",
     "text": [
      "[2018-07-18 17:40:56] start\n",
      "[2018-07-18 17:40:57] finished 10 simulations\n",
      "[2018-07-18 17:40:59] finished 20 simulations\n",
      "[2018-07-18 17:40:59] finish\n",
      "3.51s = 0.06m elapsed\n"
     ]
    }
   ],
   "source": [
    "grid_size = 2\n",
    "total_sims = 20\n",
    "\n",
    "results = {}\n",
    "results['grid_size'] = grid_size\n",
    "\n",
    "neighbors = {}\n",
    "for i in range(grid_size):\n",
    "    for j in range(grid_size):\n",
    "        neighbors[(i,j)] = []\n",
    "        \n",
    "        for (di,dj) in nn:\n",
    "            ii = i + di\n",
    "            jj = j + dj\n",
    "            if ii>=0 and ii<grid_size and jj>=0 and jj<grid_size:\n",
    "                neighbors[(i,j)].append((ii,jj))\n",
    "\n",
    "st = datetime.today().strftime('%Y-%m-%d %H:%M:%S')\n",
    "print('[%s] start' %st)\n",
    "\n",
    "tic = time.clock()\n",
    "for idx,s in enumerate(range(total_sims)):\n",
    "    seed = s+1000\n",
    "    np.random.seed(seed)\n",
    "    results[seed] = {}\n",
    "    results[seed]['state_error'] = []\n",
    "    results[seed]['meas_error'] = []\n",
    "    \n",
    "    # sim = FireSimulator(grid_size, alpha=alpha, beta=beta)\n",
    "    # sim.step([])\n",
    "\n",
    "    fire_init = [(int(grid_size/2)+1,int(grid_size/2)+1)]\n",
    "    sim = FireSimulator(grid_size, alpha=alpha, beta=beta, fire_init=fire_init)\n",
    "    \n",
    "    belief = {}\n",
    "    # uniform initial belief\n",
    "    # for i in range(3**(grid_size**2)):\n",
    "    #     x = np.base_repr(i, base=3).zfill(grid_size**2)\n",
    "    #     belief[x] = 1./(3**(grid_size**2))\n",
    "        \n",
    "    # exact initial belief\n",
    "    for i in range(3**(grid_size**2)):\n",
    "        x = np.base_repr(i, base=3).zfill(grid_size**2)\n",
    "        belief[x] = 0\n",
    "    state_str = ''.join([str(e) for e in sim.state.reshape((grid_size**2,))])\n",
    "    belief[state_str] = 1\n",
    "\n",
    "    while not sim.end:\n",
    "    # for _ in range(1):\n",
    "        # if sim.iter > 1:\n",
    "        sim.step([])\n",
    "\n",
    "        meas_data = np.zeros_like(sim.state) + -1\n",
    "        for i in range(grid_size):\n",
    "            for j in range(grid_size):\n",
    "\n",
    "                meas = sim.state[i,j]\n",
    "                p_list = [meas_wrong,meas_wrong,meas_wrong]\n",
    "                p_list[meas] += meas_right - meas_wrong\n",
    "                meas_data[i,j] = np.random.choice([0,1,2], p=p_list)\n",
    "\n",
    "        belief = exact_method(belief, neighbors, grid_size, meas_data)\n",
    "\n",
    "        state_est_str = max(belief.items(), key=operator.itemgetter(1))[0]\n",
    "        state_est = np.array(list(state_est_str), dtype=int).reshape(grid_size,grid_size)\n",
    "\n",
    "        results[seed]['state_error'].append(np.sum(state_est != sim.state))\n",
    "        results[seed]['meas_error'].append(np.sum(meas_data != sim.state))\n",
    "        \n",
    "    if (idx+1) % 10 == 0:\n",
    "        st = datetime.today().strftime('%Y-%m-%d %H:%M:%S')\n",
    "        print('[%s] finished %d simulations' %(st, idx+1))\n",
    "        \n",
    "        filename = '[SAVE] ' + 'ex_gs' + str(grid_size) + '_s' + str(idx+1) + '.pkl'\n",
    "        output = open(filename, 'wb')\n",
    "        pickle.dump(results, output)\n",
    "        output.close()\n",
    "\n",
    "st = datetime.today().strftime('%Y-%m-%d %H:%M:%S')\n",
    "print('[%s] finish' %st)\n",
    "        \n",
    "toc = time.clock()\n",
    "print('%0.2fs = %0.2fm elapsed' % (toc-tic,(toc-tic)/60))\n",
    "\n",
    "filename = 'ex_gs' + str(grid_size) + '_s' + str(total_sims) + '.pkl'\n",
    "output = open(filename, 'wb')\n",
    "pickle.dump(results, output)\n",
    "output.close()"
   ]
  },
  {
   "cell_type": "code",
   "execution_count": null,
   "metadata": {},
   "outputs": [],
   "source": []
  },
  {
   "cell_type": "code",
   "execution_count": 41,
   "metadata": {
    "collapsed": false
   },
   "outputs": [
    {
     "data": {
      "text/plain": [
       "[<matplotlib.lines.Line2D at 0x7faf31672eb8>]"
      ]
     },
     "execution_count": 41,
     "metadata": {},
     "output_type": "execute_result"
    },
    {
     "data": {
      "image/png": "[encoded data removed]",
      "text/plain": [
       "<Figure size 1200x900 with 1 Axes>"
      ]
     },
     "metadata": {},
     "output_type": "display_data"
    }
   ],
   "source": [
    "state_error_plot = [np.median(results[s]['state_error'])*100/grid_size**2 for s in results.keys() if isinstance(s, int)]\n",
    "meas_error_plot = [np.median(results[s]['meas_error'])*100/grid_size**2 for s in results.keys() if isinstance(s, int)]\n",
    "\n",
    "plt.figure(figsize=(12,9))\n",
    "plt.plot(state_error_plot)\n",
    "plt.plot(meas_error_plot)"
   ]
  },
  {
   "cell_type": "code",
   "execution_count": null,
   "metadata": {
    "collapsed": true
   },
   "outputs": [],
   "source": []
  }
 ],
 "metadata": {
  "kernelspec": {
   "display_name": "Python 3",
   "language": "python",
   "name": "python3"
  },
  "language_info": {
   "codemirror_mode": {
    "name": "ipython",
    "version": 3
   },
   "file_extension": ".py",
   "mimetype": "text/x-python",
   "name": "python",
   "nbconvert_exporter": "python",
   "pygments_lexer": "ipython3",
   "version": "3.5.2"
  }
 },
 "nbformat": 4,
 "nbformat_minor": 2
}
