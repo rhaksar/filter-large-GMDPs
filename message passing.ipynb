{
 "cells": [
  {
   "cell_type": "markdown",
   "metadata": {},
   "source": [
    "setup"
   ]
  },
  {
   "cell_type": "code",
   "execution_count": 1,
   "metadata": {
    "collapsed": false
   },
   "outputs": [],
   "source": [
    "from FireSimulator import *\n",
    "\n",
    "import copy\n",
    "from datetime import datetime\n",
    "import matplotlib.pyplot as plt\n",
    "import matplotlib.patches as patches\n",
    "import numpy as np\n",
    "import os\n",
    "import pickle\n",
    "import sys\n",
    "import time\n",
    "\n",
    "%matplotlib inline\n",
    "%load_ext autoreload\n",
    "%autoreload 2"
   ]
  },
  {
   "cell_type": "code",
   "execution_count": null,
   "metadata": {
    "collapsed": true
   },
   "outputs": [],
   "source": []
  },
  {
   "cell_type": "markdown",
   "metadata": {},
   "source": [
    "function to visualize forest"
   ]
  },
  {
   "cell_type": "code",
   "execution_count": 10,
   "metadata": {
    "collapsed": false
   },
   "outputs": [],
   "source": [
    "def visualize_forest(axis_handle, data):\n",
    "    r, c = data.shape\n",
    "    for i in range(r):\n",
    "        for j in range(c):\n",
    "            x = col_to_x(j)\n",
    "            y = row_to_y(r,i)\n",
    "            \n",
    "            rect = patches.Rectangle((x-0.5,y-0.5),1,1,alpha=0.6)\n",
    "            \n",
    "            if data[i,j] == 0:\n",
    "                rect.set_color('g')\n",
    "            elif data[i,j] == 1:\n",
    "                rect.set_color('r')\n",
    "            elif data[i,j] == 2:\n",
    "                rect.set_color('k')\n",
    "                \n",
    "            axis_handle.add_patch(rect)\n",
    "    \n",
    "    return axis_handle"
   ]
  },
  {
   "cell_type": "markdown",
   "metadata": {},
   "source": [
    "simulation parameters"
   ]
  },
  {
   "cell_type": "code",
   "execution_count": 52,
   "metadata": {
    "collapsed": false
   },
   "outputs": [],
   "source": [
    "grid_size = 10\n",
    "dp = 0\n",
    "alpha = 0.2763\n",
    "beta = np.exp(-0.1)\n",
    "\n",
    "nn = [(-1,0),(1,0),(0,-1),(0,1)]\n",
    "\n",
    "# pre-calculate the neighbor indices for each node\n",
    "neighbors = {}\n",
    "for i in range(grid_size):\n",
    "    for j in range(grid_size):\n",
    "        neighbors[(i,j)] = []\n",
    "        \n",
    "        for (di,dj) in nn:\n",
    "            ii = i + di\n",
    "            jj = j + dj\n",
    "            if ii>=0 and ii<grid_size and jj>=0 and jj<grid_size:\n",
    "                neighbors[(i,j)].append((ii,jj))"
   ]
  },
  {
   "cell_type": "markdown",
   "metadata": {},
   "source": [
    "dynamics"
   ]
  },
  {
   "cell_type": "code",
   "execution_count": 12,
   "metadata": {
    "collapsed": true
   },
   "outputs": [],
   "source": [
    "# States: 0-healthy, 1-fire, 2-burnt\n",
    "def dynamics(xi_tm1, fi_tm1, xi_t):\n",
    "    if xi_tm1 == 0:\n",
    "        if xi_t == 0:\n",
    "            return alpha**fi_tm1\n",
    "        elif xi_t == 1:\n",
    "            return 1-alpha**fi_tm1\n",
    "        elif xi_t == 2:\n",
    "            return 0\n",
    "        \n",
    "    elif xi_tm1 == 1:\n",
    "        if xi_t == 0:\n",
    "            return 0\n",
    "        elif xi_t == 1:\n",
    "            return beta\n",
    "        elif xi_t == 2:\n",
    "            return 1-beta\n",
    "        \n",
    "    elif xi_tm1 == 2:\n",
    "        if xi_t == 0:\n",
    "            return 0\n",
    "        elif xi_t == 1:\n",
    "            return 0\n",
    "        elif xi_t == 2:\n",
    "            return 1"
   ]
  },
  {
   "cell_type": "code",
   "execution_count": null,
   "metadata": {
    "collapsed": true
   },
   "outputs": [],
   "source": []
  },
  {
   "cell_type": "markdown",
   "metadata": {},
   "source": [
    "first case: measurement model $p(y^{t}_{t} ~|~ x^{t}_{i})$ i.e. point-to-point"
   ]
  },
  {
   "cell_type": "code",
   "execution_count": 13,
   "metadata": {
    "collapsed": false
   },
   "outputs": [],
   "source": [
    "meas_right = 0.9\n",
    "meas_wrong = 0.5*(1-meas_right)\n",
    "def measurement(xi_t, yi_t):\n",
    "    if xi_t != yi_t:\n",
    "        return meas_wrong\n",
    "    elif xi_t == yi_t:\n",
    "        return meas_right"
   ]
  },
  {
   "cell_type": "markdown",
   "metadata": {},
   "source": [
    "helper function to calculate a linear approximation to the log function"
   ]
  },
  {
   "cell_type": "code",
   "execution_count": 14,
   "metadata": {},
   "outputs": [],
   "source": [
    "# piecewise linear approximation to log using 6 segments with regions hard-coded\n",
    "def log_linear(x):\n",
    "    \n",
    "    if x >= 0.20318:\n",
    "        value = 2*(x-1)\n",
    "    elif x < 0.20318 and x >= 0.05:\n",
    "        m = (np.log(0.20318) - np.log(0.05))/(0.20318 - 0.05)\n",
    "        b = np.log(0.05) - m*0.05\n",
    "        value = m*x + b\n",
    "    elif x < 0.05 and x >= 0.01:\n",
    "        m = (np.log(0.05) - np.log(0.01))/(0.05 - 0.01)\n",
    "        b = np.log(0.01) - m*0.01\n",
    "        value = m*x + b\n",
    "    elif x < 0.01 and x >= 0.001:\n",
    "        m = (np.log(0.01) - np.log(0.001))/(0.01 - 0.001)\n",
    "        b = np.log(0.001) - m*0.001\n",
    "        value = m*x + b\n",
    "    elif x < 0.001 and x >= 1e-10:\n",
    "        m = (np.log(0.001) - np.log(1e-10))/(0.001 - 1e-10)\n",
    "        b = np.log(1e-10) - m*1e-10\n",
    "        value = m*x + b\n",
    "    else:\n",
    "        value = -1.0*np.inf\n",
    "    \n",
    "    return value"
   ]
  },
  {
   "cell_type": "code",
   "execution_count": 15,
   "metadata": {},
   "outputs": [],
   "source": [
    "# a simple linear approximation to log of the form C*(x-1)\n",
    "def log_simple(x,C):\n",
    "    value = C*(x-1)\n",
    "    if x < np.exp(value):\n",
    "        return -1.0*np.inf\n",
    "    else:\n",
    "        return value"
   ]
  },
  {
   "cell_type": "markdown",
   "metadata": {},
   "source": [
    "message-passing algorithm based on variational inference"
   ]
  },
  {
   "cell_type": "code",
   "execution_count": 56,
   "metadata": {
    "collapsed": false
   },
   "outputs": [],
   "source": [
    "def variational_method(prior, neighbors, grid_size, meas_data, Kmax=1, C=None):\n",
    "    # initiliaze posterior to same size as prior\n",
    "    post = np.zeros_like(prior)\n",
    "    #post[:,:,0] = 0.34\n",
    "    #post[:,:,1] = 0.33\n",
    "    #post[:,:,2] = 0.33\n",
    "    \n",
    "    # simplify the prior distribution to two states,\n",
    "    # 'not on fire' [0] and 'on fire' [1]\n",
    "    prior_simple = np.zeros((grid_size,grid_size,2))\n",
    "    prior_simple[:,:,1] = prior[:,:,1]\n",
    "    prior_simple[:,:,0] = 1 - prior_simple[:,:,1]\n",
    "    \n",
    "    # flag to determine if variational inference converges early\n",
    "    converged = False\n",
    "    status = []\n",
    "    \n",
    "    # initialize a structure to hold data for each node\n",
    "    node_data = {}\n",
    "    timing = {}\n",
    "    for i in range(grid_size):\n",
    "        for j in range(grid_size):\n",
    "            node_data[(i,j)] = {}\n",
    "            timing[(i,j)] = []\n",
    "            \n",
    "            node_data[(i,j)]['prior_simple'] = [0,0,0,0,0]\n",
    "            # node_data[(i,j)]['post_simple'] = [0,0,0,0,0]\n",
    "            node_data[(i,j)]['post_next'] = [0,0,0]\n",
    "            \n",
    "            node_data[(i,j)]['msg'] = {}\n",
    "            node_data[(i,j)]['msg_simple'] = {}\n",
    "            node_data[(i,j)]['msg_hat'] = {}\n",
    "            node_data[(i,j)]['msg_next'] = {}\n",
    "            \n",
    "            # calculate the joint probability distribution over neighbors for each node,\n",
    "            # the probability that f neighbors are on fire\n",
    "            tic = time.clock()\n",
    "            num_neighbors = len(neighbors[(i,j)])\n",
    "            for l in range(2**num_neighbors):\n",
    "                xj = np.base_repr(l, base=2).zfill(num_neighbors)\n",
    "\n",
    "                f = xj.count('1')\n",
    "\n",
    "                # need to be careful to avoid multiplying small numbers\n",
    "                p = 0\n",
    "                for m in range(num_neighbors):\n",
    "                    nghbr = neighbors[(i,j)][m]\n",
    "                    prob = prior_simple[nghbr[0],nghbr[1],int(xj[m])]\n",
    "                    if prob < 5e-5:\n",
    "                        p = -50\n",
    "                        break\n",
    "                    else:\n",
    "                        p += np.log(prob)\n",
    "                    \n",
    "                if p <= -50:\n",
    "                    node_data[(i,j)]['prior_simple'][f] += 0\n",
    "                else:\n",
    "                    node_data[(i,j)]['prior_simple'][f] += np.exp(p)\n",
    "            toc = time.clock()\n",
    "            timing[(i,j)].append(toc-tic)\n",
    "    \n",
    "    # main loop for message-passing\n",
    "    for iteration in range(Kmax):\n",
    "        \n",
    "        # iterate through nodes (here, trees in a forest)\n",
    "        for i in range(grid_size):\n",
    "            for j in range(grid_size):\n",
    "\n",
    "                # initialization step\n",
    "                if iteration == 0:\n",
    "                    tic = time.clock()\n",
    "                    \n",
    "                    # first calculate a preliminary message,\n",
    "                    # a function of xi_(t-1) and xi_t \n",
    "                    for xi_tm1 in range(3):\n",
    "                        for xi_t in range(3):\n",
    "                            node_data[(i,j)]['msg_hat'][(xi_tm1,xi_t)] = 0\n",
    "                            for fi_tm1 in range(5):\n",
    "                                node_data[(i,j)]['msg_hat'][(xi_tm1,xi_t)] += \\\n",
    "                                    dynamics(xi_tm1, fi_tm1, xi_t)*node_data[(i,j)]['prior_simple'][fi_tm1]\n",
    "                    \n",
    "                    # calculate the node posterior by summing out xi_(t-1) from the preliminary message\n",
    "                    qi_dist = [0,0,0]\n",
    "                    for xi_t in range(3):\n",
    "                        for xi_tm1 in range(3):\n",
    "                            qi_dist[xi_t] += prior[i,j,xi_tm1]*node_data[(i,j)]['msg_hat'][(xi_tm1,xi_t)]\n",
    "                        \n",
    "                        # qi_dist[xi_t] = C*measurement(xi_t, meas_data[i,j])*qi_dist[xi_t]\n",
    "                        if C is not None:\n",
    "                            qi_dist[xi_t] = log_simple(measurement(xi_t, meas_data[i,j])*qi_dist[xi_t], C)\n",
    "                        else:\n",
    "                            qi_dist[xi_t] = log_linear(measurement(xi_t, meas_data[i,j])*qi_dist[xi_t])\n",
    "                    \n",
    "                    # normalize distribution\n",
    "                    qi_dist = [el-max(qi_dist) for el in qi_dist]\n",
    "                    normalization = 0\n",
    "                    for idx,el in enumerate(qi_dist):\n",
    "                        if el < -50:\n",
    "                            qi_dist[idx] = 0\n",
    "                            continue\n",
    "\n",
    "                        qi_dist[idx] = np.exp(el)\n",
    "                        normalization += qi_dist[idx]\n",
    "\n",
    "                    # store posterior\n",
    "                    #node_data[(i,j)]['post_next'] /= sum(node_data[(i,j)]['post_next']) \n",
    "                    node_data[(i,j)]['post_next'] = qi_dist / normalization\n",
    "                    \n",
    "                    # skip calculating the shared message if only one algorithm iteration\n",
    "                    if Kmax == 1:\n",
    "                        toc = time.clock()\n",
    "                        timing[(i,j)].append(toc-tic)\n",
    "                        continue\n",
    "                    \n",
    "                    # calculate message that will be shared by summing out xi_t from the preliminary message\n",
    "                    for xi_tm1 in range(3):\n",
    "                        node_data[(i,j)]['msg_next'][xi_tm1] = 0  \n",
    "                        for xi_t in range(3):\n",
    "                            node_data[(i,j)]['msg_next'][xi_tm1] += \\\n",
    "                                node_data[(i,j)]['post_next'][xi_t]*node_data[(i,j)]['msg_hat'][(xi_tm1,xi_t)]\n",
    "                    \n",
    "                    # normalize message\n",
    "                    msg_normalization = sum(node_data[(i,j)]['msg_next'].values())\n",
    "                    for key in node_data[(i,j)]['msg_next'].keys():\n",
    "                        node_data[(i,j)]['msg_next'][key] /= msg_normalization\n",
    "                        \n",
    "                    toc = time.clock()\n",
    "                    timing[(i,j)].append(toc-tic)\n",
    "                    \n",
    "                else:\n",
    "                    tic = time.clock()\n",
    "                    \n",
    "                    num_neighbors = len(neighbors[(i,j)])\n",
    "                    for idx in range(5):\n",
    "                        node_data[(i,j)]['msg_simple'][idx] = 0\n",
    "                    \n",
    "                    # use the shared message from neighbors to construct a joint probability distribution,\n",
    "                    # a joint message based on number of neighbors on fire\n",
    "                    for l in range(2**num_neighbors):\n",
    "                        xj = np.base_repr(l, base=2).zfill(num_neighbors)\n",
    "\n",
    "                        fi_tm1 = xj.count('1')\n",
    "                        #node_data[(i,j)]['msg_simple'].setdefault(fi_tm1, 0)\n",
    "\n",
    "                        # avoid multiplying small numbers by using log and exp\n",
    "                        p = 0\n",
    "                        for m in range(num_neighbors):\n",
    "                            nghbr = neighbors[(i,j)][m]\n",
    "                            if int(xj[m]) == 0:\n",
    "                                prob = (node_data[(nghbr[0],nghbr[1])]['msg'][0] + \\\n",
    "                                        node_data[(nghbr[0],nghbr[1])]['msg'][2])\n",
    "                            elif int(xj[m]) == 1:\n",
    "                                prob = node_data[(nghbr[0],nghbr[1])]['msg'][1]\n",
    "                                \n",
    "                            if prob < 1e-10:\n",
    "                                p = -50\n",
    "                                break\n",
    "                            else:\n",
    "                                p += np.log(prob)\n",
    "                            \n",
    "                        if p <= -50:\n",
    "                            node_data[(i,j)]['msg_simple'][fi_tm1] += 0\n",
    "                        else:\n",
    "                            node_data[(i,j)]['msg_simple'][fi_tm1] += np.exp(p)\n",
    "                    \n",
    "                    # use the joint message distribution to calculate a preliminary message,\n",
    "                    # a function of xi_(t-1) and xi_t\n",
    "                    for xi_tm1 in range(3):\n",
    "                        for xi_t in range(3):\n",
    "                            node_data[(i,j)]['msg_hat'][(xi_tm1,xi_t)] = 0\n",
    "                            for fi_tm1 in range(5):\n",
    "                                node_data[(i,j)]['msg_hat'][(xi_tm1,xi_t)] += \\\n",
    "                                    dynamics(xi_tm1, fi_tm1, xi_t)*node_data[(i,j)]['prior_simple'][fi_tm1]* \\\n",
    "                                    node_data[(i,j)]['msg_simple'][fi_tm1]      \n",
    "                    \n",
    "                    # calculate the node posterior by summing out xi_(t-1) from the preliminary message\n",
    "                    qi_dist = [0,0,0]\n",
    "                    for xi_t in range(3):\n",
    "                        for xi_tm1 in range(3):\n",
    "                            qi_dist[xi_t] += prior[i,j,xi_tm1]*node_data[(i,j)]['msg_hat'][(xi_tm1,xi_t)]\n",
    "\n",
    "                        # qi_dist[xi_t] = C*measurement(xi_t, meas_data[i,j])*qi_dist[xi_t]\n",
    "                        if C is not None:\n",
    "                            qi_dist[xi_t] = log_simple(measurement(xi_t, meas_data[i,j])*qi_dist[xi_t], C)\n",
    "                        else:\n",
    "                            qi_dist[xi_t] = log_linear(measurement(xi_t, meas_data[i,j])*qi_dist[xi_t])\n",
    "                    \n",
    "                    # normalize and store distribution\n",
    "                    qi_dist = [el-max(qi_dist) for el in qi_dist]\n",
    "                    normalization = 0\n",
    "                    for idx,el in enumerate(qi_dist):\n",
    "                        if el < -50:\n",
    "                            qi_dist[idx] = 0 \n",
    "                            continue\n",
    "                        \n",
    "                        qi_dist[idx] = np.exp(el)\n",
    "                        normalization += qi_dist[idx]\n",
    "                        \n",
    "                    node_data[(i,j)]['post_next'] = qi_dist / normalization\n",
    "                    \n",
    "                    # calculate next message by summing out xi_t from the preliminary message\n",
    "                    for xi_tm1 in range(3):\n",
    "                        node_data[(i,j)]['msg_next'][xi_tm1] = 0  \n",
    "                        for xi_t in range(3):\n",
    "                            node_data[(i,j)]['msg_next'][xi_tm1] += node_data[(i,j)]['post_next'][xi_t]*\\\n",
    "                                node_data[(i,j)]['msg_hat'][(xi_tm1,xi_t)]\n",
    "                    \n",
    "                    # normalize message\n",
    "                    msg_normalization = sum(node_data[(i,j)]['msg_next'].values())\n",
    "                    for key in node_data[(i,j)]['msg_next'].keys():\n",
    "                        node_data[(i,j)]['msg_next'][key] /= msg_normalization\n",
    "                        \n",
    "                    toc = time.clock()\n",
    "                    timing[(i,j)].append(toc-tic)\n",
    "         \n",
    "        # update posterior for each node and reset some stored data\n",
    "        num_converged = 0\n",
    "        for i in range(grid_size):\n",
    "            for j in range(grid_size):\n",
    "                node_data[(i,j)]['msg'] = copy.copy(node_data[(i,j)]['msg_next'])\n",
    "                \n",
    "                post_diff = np.sum(np.abs(post[i,j,:]-node_data[(i,j)]['post_next']))\n",
    "                if post_diff <= 1e-3:\n",
    "                    num_converged += 1\n",
    "                    \n",
    "                post[i,j,:] = copy.copy(node_data[(i,j)]['post_next'])\n",
    "                \n",
    "                node_data[(i,j)]['msg_simple'] = {}\n",
    "                node_data[(i,j)]['msg_hat'] = {}\n",
    "                node_data[(i,j)]['msg_next'] = {}\n",
    "                node_data[(i,j)]['post_next'] = [0,0,0]\n",
    "         \n",
    "        # algorithm has converged if less than 1% of nodes changed their distribution\n",
    "        if iteration > 0 and num_converged >= (grid_size**2)*(1-0.01):\n",
    "            converged = True\n",
    "            break\n",
    "                \n",
    "    if converged and Kmax > 1:\n",
    "        #print('VI converged after %d iterations' %(iteration+1))\n",
    "        status.append('Converged')\n",
    "        status.append(iteration+1)\n",
    "    elif Kmax > 1:\n",
    "        #print('VI did not converge after %d iterations' %(iteration+1))\n",
    "        status.append('Cutoff')\n",
    "        status.append(iteration+1)\n",
    "        \n",
    "    # calculate average timing\n",
    "    for i in range(grid_size):\n",
    "        for j in range(grid_size):\n",
    "            if len(timing[(i,j)]) >= 3:\n",
    "                timing[(i,j)] = sum(timing[(i,j)][0:2]) + sum(timing[(i,j)][2:])/(Kmax-1)\n",
    "            else:\n",
    "                timing[(i,j)] = sum(timing[(i,j)])\n",
    "                \n",
    "    timing = sum(timing.values())/grid_size**2\n",
    "    \n",
    "    return post, timing, status"
   ]
  },
  {
   "cell_type": "markdown",
   "metadata": {},
   "source": [
    "run a simulation"
   ]
  },
  {
   "cell_type": "code",
   "execution_count": 67,
   "metadata": {
    "collapsed": false,
    "scrolled": false
   },
   "outputs": [
    {
     "name": "stdout",
     "output_type": "stream",
     "text": [
      "number of sim iterations: 77\n",
      "median error: 1.000%\n",
      "mean error: 1.816%\n",
      "min error: 0.000%\n",
      "max error: 10.000%\n",
      "time per node per iteration: 0.205ms\n",
      "5.56s = 0.09m elapsed\n"
     ]
    }
   ],
   "source": [
    "np.random.seed(1000+50)\n",
    "\n",
    "fire_init = [(int(grid_size/2)+1,int(grid_size/2)+1)]\n",
    "sim = FireSimulator(grid_size, alpha=alpha, beta=beta, fire_init=fire_init)\n",
    "\n",
    "# sim = FireSimulator(grid_size, alpha=alpha, beta=beta)\n",
    "# sim.step([], dbeta=dp)\n",
    "\n",
    "# exact initial belief\n",
    "belief = np.zeros((grid_size,grid_size,3))\n",
    "idx = np.where(sim.state==0)\n",
    "belief[idx[0],idx[1],:] = [1,0,0]\n",
    "idx = np.where(sim.state==1)\n",
    "belief[idx[0],idx[1],:] = [0,1,0]\n",
    "idx = np.where(sim.state==2)\n",
    "belief[idx[0],idx[1],:] = [0,0,1]\n",
    "\n",
    "meas_data = sim.state\n",
    "state_est = np.argmax(belief, axis=2) \n",
    "meas_errors = []\n",
    "state_errors = []\n",
    "\n",
    "total_time = []\n",
    "\n",
    "plotting = False\n",
    "\n",
    "if plotting:\n",
    "    fig = plt.figure(figsize=(15,15))\n",
    "\n",
    "    ax1 = fig.add_subplot(131, aspect='equal')\n",
    "    ax1.set_xlim([0,grid_size+1])\n",
    "    ax1.set_ylim([0,grid_size+1])\n",
    "    plt.title('ground truth\\nt = %d' %sim.iter)\n",
    "    plt.tick_params(axis='both', which='both', \n",
    "                    labelbottom=False, labelleft=False, bottom=False, left=False)\n",
    "    ax1 = visualize_forest(ax1, sim.state)\n",
    "\n",
    "    ax2 = fig.add_subplot(132, aspect='equal')\n",
    "    ax2.set_xlim([0,grid_size+1])\n",
    "    ax2.set_ylim([0,grid_size+1])\n",
    "    plt.title('measurement: %d error(s)\\nt = %d' %(np.sum(meas_data!=sim.state),sim.iter))\n",
    "    plt.tick_params(axis='both', which='both', \n",
    "                    labelbottom=False, labelleft=False, bottom=False, left=False)\n",
    "    ax2 = visualize_forest(ax2, meas_data)\n",
    "\n",
    "    ax3 = fig.add_subplot(133, aspect='equal')\n",
    "    ax3.set_xlim([0,grid_size+1])\n",
    "    ax3.set_ylim([0,grid_size+1])\n",
    "    plt.tick_params(axis='both', which='both', \n",
    "                    labelbottom=False, labelleft=False, bottom=False, left=False)\n",
    "    plt.title('estimate: %d error(s)\\nt = %d' %(np.sum(state_est!=sim.state),sim.iter))\n",
    "    ax3 = visualize_forest(ax3, state_est)\n",
    "    \n",
    "    rows, cols = np.where(state_est != sim.state)\n",
    "    for i, j in zip(rows, cols):\n",
    "        x = col_to_x(j)\n",
    "        y = row_to_y(grid_size, i)\n",
    "        plt.plot(x, y, marker='o', color='b')\n",
    "\n",
    "tic = time.clock()\n",
    "# for _ in range(50):\n",
    "while not sim.end:\n",
    "    \n",
    "    sim.step([], dbeta=dp)\n",
    "    \n",
    "    meas_data = np.zeros_like(sim.state) + -1\n",
    "    for i in range(grid_size):\n",
    "        for j in range(grid_size):\n",
    "            \n",
    "            meas = sim.state[i,j]\n",
    "            p_list = [meas_wrong,meas_wrong,meas_wrong]\n",
    "            p_list[meas] += meas_right - meas_wrong\n",
    "            meas_data[i,j] = np.random.choice([0,1,2], p=p_list)\n",
    "    \n",
    "    # algorithm parameters:\n",
    "    #   Kmax - number of message passing iterations\n",
    "    #   C - linear approximation constant. C=None uses a piecewise linear approximation\n",
    "    belief, t, status = variational_method(belief, neighbors, grid_size, meas_data, Kmax=10, C=None)\n",
    "    total_time.append(t)\n",
    "    state_est = np.argmax(belief, axis=2)\n",
    "    \n",
    "    if status[0] != 'Converged':\n",
    "        print('[sim step %d] VI did not converge after %d iterations' %(sim.iter,status[1]))\n",
    "    # elif status[0] == 'Converged':\n",
    "    #     print('VI converged after %d iterations' %(status[1]))\n",
    "    \n",
    "    num_errors = np.sum(state_est != sim.state)\n",
    "    state_errors.append(num_errors)\n",
    "    meas_errors.append(np.sum(meas_data != sim.state))\n",
    "    #print('iteration %03d: %d errors' %(sim.iter,num_errors))\n",
    "    \n",
    "    if plotting:\n",
    "        fig = plt.figure(figsize=(15,15))\n",
    "\n",
    "        ax1 = fig.add_subplot(131, aspect='equal')\n",
    "        ax1.set_xlim([0,grid_size+1])\n",
    "        ax1.set_ylim([0,grid_size+1])\n",
    "        plt.title('ground truth\\nt = %d' %sim.iter)\n",
    "        plt.tick_params(axis='both', which='both', \n",
    "                        labelbottom=False, labelleft=False, bottom=False, left=False)\n",
    "        ax1 = visualize_forest(ax1, sim.state)\n",
    "\n",
    "        ax2 = fig.add_subplot(132, aspect='equal')\n",
    "        ax2.set_xlim([0,grid_size+1])\n",
    "        ax2.set_ylim([0,grid_size+1])\n",
    "        plt.title('measurement: %d error(s)\\nt = %d' %(np.sum(meas_data!=sim.state),sim.iter))\n",
    "        plt.tick_params(axis='both', which='both', \n",
    "                        labelbottom=False, labelleft=False, bottom=False, left=False)\n",
    "        ax2 = visualize_forest(ax2, meas_data)\n",
    "\n",
    "        ax3 = fig.add_subplot(133, aspect='equal')\n",
    "        ax3.set_xlim([0,grid_size+1])\n",
    "        ax3.set_ylim([0,grid_size+1])\n",
    "        plt.tick_params(axis='both', which='both', \n",
    "                        labelbottom=False, labelleft=False, bottom=False, left=False)\n",
    "        plt.title('estimate: %d error(s)\\nt = %d' %(np.sum(state_est!=sim.state),sim.iter))\n",
    "        ax3 = visualize_forest(ax3, state_est)\n",
    "\n",
    "        rows, cols = np.where(state_est != sim.state)\n",
    "        for i, j in zip(rows, cols):\n",
    "            x = col_to_x(j)\n",
    "            y = row_to_y(grid_size, i)\n",
    "            plt.plot(x, y, marker='o', color='b')\n",
    "            \n",
    "    # print('sim iteration:',sim.iter)\n",
    "    \n",
    "toc = time.clock()\n",
    "print('number of sim iterations:',sim.iter)\n",
    "print('median error: %0.3f%%' %(np.median(state_errors)*100/grid_size**2))\n",
    "print('mean error: %0.3f%%' %(np.mean(state_errors)*100/grid_size**2))\n",
    "print('min error: %0.3f%%' %(np.amin(state_errors)*100/grid_size**2))\n",
    "print('max error: %0.3f%%' %(np.amax(state_errors)*100/grid_size**2))\n",
    "print('time per node per iteration: %0.3fms' %(1000*sum(total_time)/len(total_time)))\n",
    "print('%0.2fs = %0.2fm elapsed' % (toc-tic,(toc-tic)/60))"
   ]
  },
  {
   "cell_type": "code",
   "execution_count": 68,
   "metadata": {
    "collapsed": false
   },
   "outputs": [
    {
     "data": {
      "text/plain": [
       "<matplotlib.legend.Legend at 0x7f05680bba20>"
      ]
     },
     "execution_count": 68,
     "metadata": {},
     "output_type": "execute_result"
    },
    {
     "data": {
      "image/png": "[encoded data removed]",
      "text/plain": [
       "<Figure size 1200x800 with 1 Axes>"
      ]
     },
     "metadata": {},
     "output_type": "display_data"
    }
   ],
   "source": [
    "plot_state_errors = [100*e/grid_size**2 for e in state_errors]\n",
    "plot_meas_errors = [100*e/grid_size**2 for e in meas_errors]\n",
    "\n",
    "plt.figure(figsize=(12,8))\n",
    "plt.plot(plot_state_errors)\n",
    "plt.plot(plot_meas_errors)\n",
    "plt.plot(range(len(plot_meas_errors)),np.median(plot_meas_errors)*np.ones(len(plot_meas_errors)), \\\n",
    "         label='median measurement error')\n",
    "plt.plot(range(len(plot_meas_errors)),np.mean(plot_meas_errors)*np.ones(len(plot_meas_errors)), \\\n",
    "         label='mean measurement error')\n",
    "plt.plot(range(len(plot_state_errors)),np.median(plot_state_errors)*np.ones(len(plot_state_errors)), \\\n",
    "         label='median state error')\n",
    "plt.plot(range(len(plot_state_errors)),np.mean(plot_state_errors)*np.ones(len(plot_state_errors)), \\\n",
    "         label='mean state error')\n",
    "\n",
    "plt.title('median error: %0.2f%% || mean error: %0.2f%%' \\\n",
    "          %(np.median(state_errors)*100/grid_size**2,np.mean(state_errors)*100/grid_size**2))\n",
    "plt.ylabel('error [%]')\n",
    "plt.xlabel('iteration')\n",
    "\n",
    "plt.legend(loc=1)"
   ]
  },
  {
   "cell_type": "code",
   "execution_count": null,
   "metadata": {
    "collapsed": true
   },
   "outputs": [],
   "source": []
  },
  {
   "cell_type": "code",
   "execution_count": null,
   "metadata": {
    "collapsed": true
   },
   "outputs": [],
   "source": []
  },
  {
   "cell_type": "code",
   "execution_count": 18,
   "metadata": {
    "collapsed": false
   },
   "outputs": [
    {
     "data": {
      "image/png": "[encoded data removed]",
      "text/plain": [
       "<Figure size 1500x1500 with 3 Axes>"
      ]
     },
     "metadata": {},
     "output_type": "display_data"
    }
   ],
   "source": [
    "fig = plt.figure(figsize=(15,15))\n",
    "\n",
    "ax1 = fig.add_subplot(131, aspect='equal')\n",
    "ax1.set_xlim([0,grid_size+1])\n",
    "ax1.set_ylim([0,grid_size+1])\n",
    "plt.title('ground truth\\nt = %d' %sim.iter)\n",
    "plt.tick_params(axis='both', which='both', labelbottom=False, labelleft=False, bottom=False, left=False)\n",
    "ax1 = visualize_forest(ax1, sim.state)\n",
    "\n",
    "ax2 = fig.add_subplot(132, aspect='equal')\n",
    "ax2.set_xlim([0,grid_size+1])\n",
    "ax2.set_ylim([0,grid_size+1])\n",
    "plt.title('measurement: %d error(s)\\nt = %d' %(np.sum(meas_data != sim.state),sim.iter))\n",
    "plt.tick_params(axis='both', which='both', labelbottom=False, labelleft=False, bottom=False, left=False)\n",
    "ax2 = visualize_forest(ax2, meas_data)\n",
    "\n",
    "ax3 = fig.add_subplot(133, aspect='equal')\n",
    "ax3.set_xlim([0,grid_size+1])\n",
    "ax3.set_ylim([0,grid_size+1])\n",
    "plt.tick_params(axis='both', which='both', labelbottom=False, labelleft=False, bottom=False, left=False)\n",
    "plt.title('estimate: %d error(s)\\nt = %d' %(np.sum(state_est != sim.state),sim.iter))\n",
    "ax3 = visualize_forest(ax3, state_est)"
   ]
  },
  {
   "cell_type": "code",
   "execution_count": null,
   "metadata": {
    "collapsed": true
   },
   "outputs": [],
   "source": []
  },
  {
   "cell_type": "code",
   "execution_count": null,
   "metadata": {
    "collapsed": true
   },
   "outputs": [],
   "source": []
  },
  {
   "cell_type": "markdown",
   "metadata": {},
   "source": [
    "benchmark method using many simulations"
   ]
  },
  {
   "cell_type": "code",
   "execution_count": 70,
   "metadata": {
    "collapsed": false
   },
   "outputs": [
    {
     "name": "stdout",
     "output_type": "stream",
     "text": [
      "[2018-07-17 13:29:32] start\n",
      "[2018-07-17 13:40:46] finish\n",
      "674.13s = 11.24m elapsed\n"
     ]
    }
   ],
   "source": [
    "grid_size = 10\n",
    "Kparam = 10\n",
    "Cparam = None\n",
    "\n",
    "total_sims = 100\n",
    "\n",
    "alpha = 0.2763\n",
    "beta = np.exp(-0.1)\n",
    "\n",
    "# pre-calculate the neighbor indices for each node\n",
    "neighbors = {}\n",
    "for i in range(grid_size):\n",
    "    for j in range(grid_size):\n",
    "        neighbors[(i,j)] = []\n",
    "        \n",
    "        for (di,dj) in nn:\n",
    "            ii = i + di\n",
    "            jj = j + dj\n",
    "            if ii>=0 and ii<grid_size and jj>=0 and jj<grid_size:\n",
    "                neighbors[(i,j)].append((ii,jj))\n",
    "\n",
    "results = {}\n",
    "results['grid_size'] = grid_size\n",
    "results['Kparam'] = Kparam\n",
    "results['Cparam'] = Cparam\n",
    "\n",
    "st = datetime.today().strftime('%Y-%m-%d %H:%M:%S')\n",
    "print('[%s] start' %st)\n",
    "\n",
    "tic = time.clock()\n",
    "for s_idx,s in enumerate(range(total_sims)):\n",
    "\n",
    "    seed = s+1000\n",
    "    np.random.seed(seed)\n",
    "    results[seed] = {}\n",
    "    results[seed]['state_error'] = []\n",
    "    results[seed]['meas_error'] = []\n",
    "\n",
    "    fire_init = [(int(grid_size/2)+1,int(grid_size/2)+1)]\n",
    "    sim = FireSimulator(grid_size, alpha=alpha, beta=beta, fire_init=fire_init)\n",
    "    \n",
    "    # sim = FireSimulator(grid_size, alpha=alpha, beta=beta)\n",
    "    # sim.step([])\n",
    "\n",
    "    # exact initial belief\n",
    "    belief = np.zeros((grid_size,grid_size,3))\n",
    "    idx = np.where(sim.state==0)\n",
    "    belief[idx[0],idx[1],:] = [1,0,0]\n",
    "    idx = np.where(sim.state==1)\n",
    "    belief[idx[0],idx[1],:] = [0,1,0]\n",
    "    idx = np.where(sim.state==2)\n",
    "    belief[idx[0],idx[1],:] = [0,0,1]\n",
    "    \n",
    "    # uniform initial belief\n",
    "    # belief = 0.33*np.ones((grid_size,grid_size,3))\n",
    "\n",
    "    while not sim.end:\n",
    "        sim.step([])\n",
    "\n",
    "        meas_data = np.zeros_like(sim.state) + -1\n",
    "        for i in range(grid_size):\n",
    "            for j in range(grid_size):\n",
    "\n",
    "                meas = sim.state[i,j]\n",
    "                p_list = [meas_wrong,meas_wrong,meas_wrong]\n",
    "                p_list[meas] += meas_right - meas_wrong\n",
    "                meas_data[i,j] = np.random.choice([0,1,2], p=p_list)\n",
    "\n",
    "        belief, _, _ = variational_method(belief, neighbors, grid_size, meas_data, Kmax=Kparam, C=Cparam)\n",
    "        state_est = np.argmax(belief, axis=2)\n",
    "\n",
    "        results[seed]['state_error'].append(np.sum(state_est != sim.state))\n",
    "        results[seed]['meas_error'].append(np.sum(meas_data != sim.state))\n",
    "        \n",
    "    if (s_idx+1) % 10 == 0:\n",
    "        st = datetime.today().strftime('%Y-%m-%d %H:%M:%S')\n",
    "        print('[%s] finished %d simulations' %(st,s_idx+1))\n",
    "\n",
    "st = datetime.today().strftime('%Y-%m-%d %H:%M:%S')\n",
    "print('[%s] finish' %st)\n",
    "        \n",
    "toc = time.clock()\n",
    "print('%0.2fs = %0.2fm elapsed' % (toc-tic,(toc-tic)/60))\n",
    "\n",
    "filename = 'mp_gs' + str(grid_size) + '_K' + str(Kparam) + '_C' + str(Cparam) + '_s' + str(total_sims) + '.pkl'\n",
    "output = open('data files/'+filename, 'wb')\n",
    "pickle.dump(results, output)\n",
    "output.close()"
   ]
  },
  {
   "cell_type": "code",
   "execution_count": null,
   "metadata": {},
   "outputs": [],
   "source": []
  },
  {
   "cell_type": "code",
   "execution_count": 71,
   "metadata": {
    "collapsed": false
   },
   "outputs": [
    {
     "data": {
      "text/plain": [
       "[<matplotlib.lines.Line2D at 0x7f6105b8b828>]"
      ]
     },
     "execution_count": 71,
     "metadata": {},
     "output_type": "execute_result"
    },
    {
     "data": {
      "image/png": "[encoded data removed]",
      "text/plain": [
       "<Figure size 1200x900 with 1 Axes>"
      ]
     },
     "metadata": {},
     "output_type": "display_data"
    }
   ],
   "source": [
    "state_error_plot = [np.median(results[s]['state_error'])*100/grid_size**2 for s in results.keys()]\n",
    "meas_error_plot = [np.median(results[s]['meas_error'])*100/grid_size**2 for s in results.keys()]\n",
    "\n",
    "fig = plt.figure(figsize=(12,9))\n",
    "ax = fig.add_subplot(111)\n",
    "ax.plot(state_error_plot)\n",
    "ax.plot(meas_error_plot)"
   ]
  },
  {
   "cell_type": "code",
   "execution_count": null,
   "metadata": {},
   "outputs": [],
   "source": []
  },
  {
   "cell_type": "code",
   "execution_count": null,
   "metadata": {
    "collapsed": true
   },
   "outputs": [],
   "source": []
  },
  {
   "cell_type": "code",
   "execution_count": null,
   "metadata": {},
   "outputs": [],
   "source": []
  },
  {
   "cell_type": "markdown",
   "metadata": {},
   "source": [
    "scratch code"
   ]
  },
  {
   "cell_type": "code",
   "execution_count": null,
   "metadata": {},
   "outputs": [],
   "source": [
    "# debug\n",
    "if p >= 10:\n",
    "    print('iteration:',iteration)\n",
    "    print('p:',p)\n",
    "    for m in range(num_neighbors):\n",
    "        nghbr = neighbors[(i,j)][m]\n",
    "        if int(xj[m]) == 0:\n",
    "            prob = (node_data[(nghbr[0],nghbr[1])]['msg'][0] + \\\n",
    "                    node_data[(nghbr[0],nghbr[1])]['msg'][2])\n",
    "        elif int(xj[m]) == 1:\n",
    "            prob = node_data[(nghbr[0],nghbr[1])]['msg'][1]\n",
    "\n",
    "        print(prob)\n",
    "\n",
    "    print(node_data[(i,j)])\n",
    "    raise Exception()\n",
    "    \n",
    "# debug\n",
    "if any([el > 10 for el in node_data[(i,j)]['msg_next'].values()]):\n",
    "    print(qi_list)\n",
    "    print(qi_vals)\n",
    "    print(normalization)\n",
    "    print('k iteration:',iteration)\n",
    "    print('id:',(i,j))\n",
    "    print(node_data[(i,j)])\n",
    "    raise Exception()"
   ]
  }
 ],
 "metadata": {
  "kernelspec": {
   "display_name": "Python 3",
   "language": "python",
   "name": "python3"
  },
  "language_info": {
   "codemirror_mode": {
    "name": "ipython",
    "version": 3
   },
   "file_extension": ".py",
   "mimetype": "text/x-python",
   "name": "python",
   "nbconvert_exporter": "python",
   "pygments_lexer": "ipython3",
   "version": "3.5.2"
  }
 },
 "nbformat": 4,
 "nbformat_minor": 2
}
