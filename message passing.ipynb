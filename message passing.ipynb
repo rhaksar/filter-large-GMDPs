{
 "cells": [
  {
   "cell_type": "markdown",
   "metadata": {},
   "source": [
    "setup"
   ]
  },
  {
   "cell_type": "code",
   "execution_count": 139,
   "metadata": {
    "collapsed": false
   },
   "outputs": [
    {
     "name": "stdout",
     "output_type": "stream",
     "text": [
      "The autoreload extension is already loaded. To reload it, use:\n",
      "  %reload_ext autoreload\n"
     ]
    }
   ],
   "source": [
    "from FireSimulator import *\n",
    "\n",
    "import copy\n",
    "import matplotlib.pyplot as plt\n",
    "import matplotlib.patches as patches\n",
    "import numpy as np\n",
    "import os\n",
    "import sys\n",
    "import time\n",
    "\n",
    "%matplotlib inline\n",
    "%load_ext autoreload\n",
    "%autoreload 2"
   ]
  },
  {
   "cell_type": "code",
   "execution_count": null,
   "metadata": {
    "collapsed": true
   },
   "outputs": [],
   "source": []
  },
  {
   "cell_type": "markdown",
   "metadata": {},
   "source": [
    "function to visualize forest"
   ]
  },
  {
   "cell_type": "code",
   "execution_count": 2,
   "metadata": {
    "collapsed": true
   },
   "outputs": [],
   "source": [
    "def visualize_forest(axis_handle, data):\n",
    "    r, c = data.shape\n",
    "    for i in range(r):\n",
    "        for j in range(c):\n",
    "            x = col_to_x(j)\n",
    "            y = row_to_y(r,i)\n",
    "            \n",
    "            rect = patches.Rectangle((x-0.5,y-0.5),1,1,alpha=0.6)\n",
    "            \n",
    "            if data[i,j] == 0:\n",
    "                rect.set_color('g')\n",
    "            elif data[i,j] == 1:\n",
    "                rect.set_color('r')\n",
    "            elif data[i,j] == 2:\n",
    "                rect.set_color('k')\n",
    "                \n",
    "            axis_handle.add_patch(rect)\n",
    "    \n",
    "    return axis_handle"
   ]
  },
  {
   "cell_type": "markdown",
   "metadata": {},
   "source": [
    "parameters"
   ]
  },
  {
   "cell_type": "code",
   "execution_count": 3,
   "metadata": {
    "collapsed": false
   },
   "outputs": [],
   "source": [
    "grid_size = 25\n",
    "dp = 0\n",
    "alpha = 0.2763\n",
    "beta = np.exp(-0.1)\n",
    "\n",
    "nn = [(-1,0),(1,0),(0,-1),(0,1)]\n",
    "\n",
    "neighbors = {}\n",
    "for i in range(grid_size):\n",
    "    for j in range(grid_size):\n",
    "        neighbors[(i,j)] = []\n",
    "        \n",
    "        for (di,dj) in nn:\n",
    "            ii = i + di\n",
    "            jj = j + dj\n",
    "            if ii>=0 and ii<grid_size and jj>=0 and jj<grid_size:\n",
    "                neighbors[(i,j)].append((ii,jj))"
   ]
  },
  {
   "cell_type": "code",
   "execution_count": null,
   "metadata": {
    "collapsed": true
   },
   "outputs": [],
   "source": []
  },
  {
   "cell_type": "code",
   "execution_count": 4,
   "metadata": {
    "collapsed": true
   },
   "outputs": [],
   "source": [
    "def dynamics(xi_tm1, fi_tm1, xi_t):\n",
    "    if xi_tm1 == 0:\n",
    "        if xi_t == 0:\n",
    "            return alpha**fi_tm1\n",
    "        elif xi_t == 1:\n",
    "            return 1-alpha**fi_tm1\n",
    "        elif xi_t == 2:\n",
    "            return 0\n",
    "        \n",
    "    elif xi_tm1 == 1:\n",
    "        if xi_t == 0:\n",
    "            return 0\n",
    "        elif xi_t == 1:\n",
    "            return beta\n",
    "        elif xi_t == 2:\n",
    "            return 1-beta\n",
    "        \n",
    "    elif xi_tm1 == 2:\n",
    "        if xi_t == 0:\n",
    "            return 0\n",
    "        elif xi_t == 1:\n",
    "            return 0\n",
    "        elif xi_t == 2:\n",
    "            return 1"
   ]
  },
  {
   "cell_type": "code",
   "execution_count": null,
   "metadata": {
    "collapsed": true
   },
   "outputs": [],
   "source": []
  },
  {
   "cell_type": "markdown",
   "metadata": {},
   "source": [
    "first case: measurement model $p(y^{t}_{t} ~|~ x^{t}_{i})$"
   ]
  },
  {
   "cell_type": "code",
   "execution_count": 72,
   "metadata": {
    "collapsed": false
   },
   "outputs": [],
   "source": [
    "meas_right = 0.9\n",
    "meas_wrong = 0.5*(1-meas_right)\n",
    "def measurement(xi_t, yi_t):\n",
    "    if xi_t != yi_t:\n",
    "        return meas_wrong\n",
    "    elif xi_t == yi_t:\n",
    "        return meas_right"
   ]
  },
  {
   "cell_type": "code",
   "execution_count": 277,
   "metadata": {
    "collapsed": false
   },
   "outputs": [],
   "source": [
    "def variational_method(prior, neighbors, grid_size, meas_data, Kmax=1, C=10):\n",
    "    post = np.zeros_like(prior)\n",
    "    #post[:,:,0] = 0.34\n",
    "    #post[:,:,1] = 0.33\n",
    "    #post[:,:,2] = 0.33\n",
    "    \n",
    "    prior_simple = np.zeros((grid_size,grid_size,2))\n",
    "    prior_simple[:,:,1] = prior[:,:,1]\n",
    "    prior_simple[:,:,0] = 1 - prior_simple[:,:,1]\n",
    "    \n",
    "    node_data = {}\n",
    "    for i in range(grid_size):\n",
    "        for j in range(grid_size):\n",
    "            node_data[(i,j)] = {}\n",
    "            \n",
    "            #node_data[(i,j)]['post_simple'] = [0,0,0,0,0]\n",
    "            node_data[(i,j)]['post_next'] = [0,0,0]\n",
    "            \n",
    "            node_data[(i,j)]['msg'] = {}\n",
    "            node_data[(i,j)]['msg_simple'] = {}\n",
    "            node_data[(i,j)]['msg_hat'] = {}\n",
    "            node_data[(i,j)]['msg_next'] = {}\n",
    "            \n",
    "            node_data[(i,j)]['prior_simple'] = [0,0,0,0,0]\n",
    "            \n",
    "            num_neighbors = len(neighbors[(i,j)])\n",
    "            for l in range(2**num_neighbors):\n",
    "                xj = np.base_repr(l, base=2).zfill(num_neighbors)\n",
    "\n",
    "                f = xj.count('1')\n",
    "\n",
    "                p = 0\n",
    "                for m in range(num_neighbors):\n",
    "                    nghbr = neighbors[(i,j)][m]\n",
    "                    prob = prior_simple[nghbr[0],nghbr[1],int(xj[m])]\n",
    "                    if prob < 5e-5:\n",
    "                        p = -50\n",
    "                        break\n",
    "                    else:\n",
    "                        p += np.log(prob)\n",
    "                    \n",
    "                if p <= -50:\n",
    "                    node_data[(i,j)]['prior_simple'][f] += 0\n",
    "                else:\n",
    "                    node_data[(i,j)]['prior_simple'][f] += np.exp(p)\n",
    "    \n",
    "    for iteration in range(Kmax):\n",
    "        \n",
    "        for i in range(grid_size):\n",
    "            for j in range(grid_size):\n",
    "\n",
    "                if iteration == 0:\n",
    "        \n",
    "                    for xi_tm1 in range(3):\n",
    "                        for xi_t in range(3):\n",
    "                            node_data[(i,j)]['msg_hat'][(xi_tm1,xi_t)] = 0\n",
    "                            for fi_tm1 in range(5):\n",
    "                                node_data[(i,j)]['msg_hat'][(xi_tm1,xi_t)] += \\\n",
    "                                    dynamics(xi_tm1, fi_tm1, xi_t)*node_data[(i,j)]['prior_simple'][fi_tm1]\n",
    "                    \n",
    "                    qi_list = [0,0,0]\n",
    "                    for xi_t in range(3):\n",
    "                        for xi_tm1 in range(3):\n",
    "                            qi_list[xi_t] += prior[i,j,xi_tm1]*node_data[(i,j)]['msg_hat'][(xi_tm1,xi_t)]\n",
    "                        \n",
    "                        #if value <= 1e-4:\n",
    "                        #    value = np.log(measurement(xi_t, meas_data[i,j])) - 10000\n",
    "                        #else:\n",
    "                        #    value = np.log(measurement(xi_t, meas_data[i,j])) + np.log(value)\n",
    "                            \n",
    "                        #value = C*(measurement(xi_t, meas_data[i,j])) + C*value #-C\n",
    "                        \n",
    "                        #node_data[(i,j)]['post_next'][xi_t] = np.exp(value)\n",
    "                        \n",
    "                        qi_list[xi_t] = C*measurement(xi_t, meas_data[i,j])*qi_list[xi_t]\n",
    "                    \n",
    "                    qi_list = [el-max(qi_list) for el in qi_list]\n",
    "                    normalization = 0\n",
    "                    for idx,el in enumerate(qi_list):\n",
    "                        if el < -50:\n",
    "                            qi_list[idx] = 0\n",
    "                            continue\n",
    "\n",
    "                        qi_list[idx] = np.exp(el)\n",
    "                        normalization += qi_list[idx]\n",
    "\n",
    "                    qi_list /= normalization\n",
    "                    \n",
    "                    #node_data[(i,j)]['post_next'] /= sum(node_data[(i,j)]['post_next']) \n",
    "                    node_data[(i,j)]['post_next'] = qi_list\n",
    "                    \n",
    "                    for xi_tm1 in range(3):\n",
    "                        node_data[(i,j)]['msg_next'][xi_tm1] = 0  \n",
    "                        for xi_t in range(3):\n",
    "                            node_data[(i,j)]['msg_next'][xi_tm1] += \\\n",
    "                                node_data[(i,j)]['post_next'][xi_t]*node_data[(i,j)]['msg_hat'][(xi_tm1,xi_t)]\n",
    "                    \n",
    "                    msg_normalization = sum(node_data[(i,j)]['msg_next'].values())\n",
    "                    for key in node_data[(i,j)]['msg_next'].keys():\n",
    "                        node_data[(i,j)]['msg_next'][key] /= msg_normalization\n",
    "                    \n",
    "                else:\n",
    "\n",
    "                    num_neighbors = len(neighbors[(i,j)])\n",
    "                    \n",
    "                    for idx in range(5):\n",
    "                        node_data[(i,j)]['msg_simple'][idx] = 0\n",
    "                    \n",
    "                    for l in range(2**num_neighbors):\n",
    "                        xj = np.base_repr(l, base=2).zfill(num_neighbors)\n",
    "\n",
    "                        fi_tm1 = xj.count('1')\n",
    "                        #node_data[(i,j)]['msg_simple'].setdefault(fi_tm1, 0)\n",
    "\n",
    "                        p = 0\n",
    "                        for m in range(num_neighbors):\n",
    "                            nghbr = neighbors[(i,j)][m]\n",
    "                            if int(xj[m]) == 0:\n",
    "                                prob = (node_data[(nghbr[0],nghbr[1])]['msg'][0] + \\\n",
    "                                        node_data[(nghbr[0],nghbr[1])]['msg'][2])\n",
    "                            elif int(xj[m]) == 1:\n",
    "                                prob = node_data[(nghbr[0],nghbr[1])]['msg'][1]\n",
    "                                \n",
    "                            if prob < 1e-10:\n",
    "                                p = -50\n",
    "                                break\n",
    "                            else:\n",
    "                                p += np.log(prob)\n",
    "                        \n",
    "                        # debug\n",
    "                        if p >= 10:\n",
    "                            print('iteration:',iteration)\n",
    "                            print('p:',p)\n",
    "                            for m in range(num_neighbors):\n",
    "                                nghbr = neighbors[(i,j)][m]\n",
    "                                if int(xj[m]) == 0:\n",
    "                                    prob = (node_data[(nghbr[0],nghbr[1])]['msg'][0] + \\\n",
    "                                            node_data[(nghbr[0],nghbr[1])]['msg'][2])\n",
    "                                elif int(xj[m]) == 1:\n",
    "                                    prob = node_data[(nghbr[0],nghbr[1])]['msg'][1]\n",
    "                                \n",
    "                                print(prob)\n",
    "                                \n",
    "                            print(node_data[(i,j)])\n",
    "                            raise Exception()\n",
    "                            \n",
    "                        if p <= -50:\n",
    "                            node_data[(i,j)]['msg_simple'][fi_tm1] += 0\n",
    "                        else:\n",
    "                            node_data[(i,j)]['msg_simple'][fi_tm1] += np.exp(p)\n",
    "                        \n",
    "                    for xi_tm1 in range(3):\n",
    "                        for xi_t in range(3):\n",
    "                            node_data[(i,j)]['msg_hat'][(xi_tm1,xi_t)] = 0\n",
    "                            for fi_tm1 in range(5):\n",
    "                                node_data[(i,j)]['msg_hat'][(xi_tm1,xi_t)] += \\\n",
    "                                    dynamics(xi_tm1, fi_tm1, xi_t)*node_data[(i,j)]['prior_simple'][fi_tm1]* \\\n",
    "                                    node_data[(i,j)]['msg_simple'][fi_tm1]      \n",
    "                    \n",
    "                    qi_list = [0,0,0]\n",
    "                    for xi_t in range(3):\n",
    "                        for xi_tm1 in range(3):\n",
    "                            qi_list[xi_t] += prior[i,j,xi_tm1]*node_data[(i,j)]['msg_hat'][(xi_tm1,xi_t)]\n",
    "                        \n",
    "                        #if value <= 1e-4:\n",
    "                        #    value = np.log(measurement(xi_t, meas_data[i,j])) - 10 \n",
    "                        #else:\n",
    "                        #    value = np.log(measurement(xi_t, meas_data[i,j])) + np.log(value) # - C\n",
    "                            \n",
    "                        #value_list[xi_t] = value\n",
    "                        \n",
    "                        qi_list[xi_t] = C*measurement(xi_t, meas_data[i,j])*qi_list[xi_t]\n",
    "                        #if qi_list[xi_t] <= 1e-10:\n",
    "                        #    qi_list[xi_t] = np.log(measurement(xi_t, meas_data[i,j])) - 50 + np.log(C)\n",
    "                        #else:\n",
    "                        #    qi_list[xi_t] = np.log(measurement(xi_t, meas_data[i,j])) + \\\n",
    "                        #                        np.log(qi_list[xi_t]) + np.log(C)\n",
    "                    \n",
    "                    #qi_list = [np.exp(el) for el in qi_list]\n",
    "                    qi_vals = [el-max(qi_list) for el in qi_list]\n",
    "                    normalization = 0\n",
    "                    for idx,el in enumerate(qi_vals):\n",
    "                        if el < -50:\n",
    "                            qi_vals[idx] = 0 \n",
    "                            continue\n",
    "                        \n",
    "                        qi_vals[idx] = np.exp(el)\n",
    "                        normalization += qi_vals[idx]\n",
    "                        \n",
    "                    node_data[(i,j)]['post_next'] = qi_vals / normalization\n",
    "\n",
    "                    #C_stable = max(value_list)\n",
    "                    #C_stable = 0\n",
    "                    #if sum(value_list) <= -30:\n",
    "                    #    C_stable = -10\n",
    "                    #for xi_t in range(3):\n",
    "                    #    node_data[(i,j)]['post_next'][xi_t] = np.exp(value_list[xi_t] - C_stable)\n",
    "    \n",
    "                    #node_data[(i,j)]['post_next'] /= sum(node_data[(i,j)]['post_next']) \n",
    "                    \n",
    "                    for xi_tm1 in range(3):\n",
    "                        node_data[(i,j)]['msg_next'][xi_tm1] = 0  \n",
    "                        for xi_t in range(3):\n",
    "                            node_data[(i,j)]['msg_next'][xi_tm1] += node_data[(i,j)]['post_next'][xi_t]*\\\n",
    "                                node_data[(i,j)]['msg_hat'][(xi_tm1,xi_t)]\n",
    "                                \n",
    "                    msg_normalization = sum(node_data[(i,j)]['msg_next'].values())\n",
    "                    for key in node_data[(i,j)]['msg_next'].keys():\n",
    "                        node_data[(i,j)]['msg_next'][key] /= msg_normalization\n",
    "                                \n",
    "                    if any([el > 10 for el in node_data[(i,j)]['msg_next'].values()]):\n",
    "                        print(qi_list)\n",
    "                        print(qi_vals)\n",
    "                        print(normalization)\n",
    "                        print('k iteration:',iteration)\n",
    "                        print('id:',(i,j))\n",
    "                        print(node_data[(i,j)])\n",
    "                        raise Exception()\n",
    "                            \n",
    "        for i in range(grid_size):\n",
    "            for j in range(grid_size):\n",
    "                node_data[(i,j)]['msg'] = copy.copy(node_data[(i,j)]['msg_next'])\n",
    "                \n",
    "                post[i,j,:] = copy.copy(node_data[(i,j)]['post_next'])\n",
    "                \n",
    "                node_data[(i,j)]['msg_simple'] = {}\n",
    "                node_data[(i,j)]['msg_hat'] = {}\n",
    "                node_data[(i,j)]['msg_next'] = {}\n",
    "                node_data[(i,j)]['post_next'] = [0,0,0]\n",
    "\n",
    "    return post, node_data"
   ]
  },
  {
   "cell_type": "code",
   "execution_count": 294,
   "metadata": {
    "collapsed": false,
    "scrolled": false
   },
   "outputs": [
    {
     "name": "stdout",
     "output_type": "stream",
     "text": [
      "median percent error: 1.440\n",
      "mean percent error: 2.826\n",
      "max percent error: 9.440\n",
      "min percent error: 0.000\n",
      "8.20s = 0.14m elapsed\n"
     ]
    }
   ],
   "source": [
    "np.random.seed(1)\n",
    "\n",
    "sim = FireSimulator(grid_size, alpha=alpha, beta=beta)\n",
    "\n",
    "sim.step([], dbeta=dp)\n",
    "\n",
    "belief = np.zeros((grid_size,grid_size,3))\n",
    "idx = np.where(sim.state==0)\n",
    "belief[idx[0],idx[1],:] = [1,0,0]\n",
    "idx = np.where(sim.state==1)\n",
    "belief[idx[0],idx[1],:] = [0,1,0]\n",
    "idx = np.where(sim.state==2)\n",
    "belief[idx[0],idx[1],:] = [0,0,1]\n",
    "\n",
    "meas_data = sim.state\n",
    "state_est = np.argmax(belief, axis=2) \n",
    "meas_errors = []\n",
    "state_errors = []\n",
    "\n",
    "plotting = False\n",
    "\n",
    "if plotting:\n",
    "    fig = plt.figure(figsize=(15,15))\n",
    "\n",
    "    ax1 = fig.add_subplot(131, aspect='equal')\n",
    "    ax1.set_xlim([0,grid_size+1])\n",
    "    ax1.set_ylim([0,grid_size+1])\n",
    "    plt.title('ground truth\\nt = %d' %sim.iter)\n",
    "    plt.tick_params(axis='both', which='both', labelbottom=False, labelleft=False, bottom=False, left=False)\n",
    "    ax1 = visualize_forest(ax1, sim.state)\n",
    "\n",
    "    ax2 = fig.add_subplot(132, aspect='equal')\n",
    "    ax2.set_xlim([0,grid_size+1])\n",
    "    ax2.set_ylim([0,grid_size+1])\n",
    "    plt.title('measurement: %d error(s)\\nt = %d' %(np.sum(meas_data != sim.state),sim.iter))\n",
    "    plt.tick_params(axis='both', which='both', labelbottom=False, labelleft=False, bottom=False, left=False)\n",
    "    ax2 = visualize_forest(ax2, meas_data)\n",
    "\n",
    "    ax3 = fig.add_subplot(133, aspect='equal')\n",
    "    ax3.set_xlim([0,grid_size+1])\n",
    "    ax3.set_ylim([0,grid_size+1])\n",
    "    plt.tick_params(axis='both', which='both', labelbottom=False, labelleft=False, bottom=False, left=False)\n",
    "    plt.title('estimate: %d error(s)\\nt = %d' %(np.sum(state_est != sim.state),sim.iter))\n",
    "    ax3 = visualize_forest(ax3, state_est)\n",
    "    \n",
    "    rows, cols = np.where(state_est != sim.state)\n",
    "    for i, j in zip(rows, cols):\n",
    "        x = col_to_x(j)\n",
    "        y = row_to_y(grid_size, i)\n",
    "        plt.plot(x, y, marker='o', color='b')\n",
    "\n",
    "tic = time.clock()\n",
    "# for _ in range(30):\n",
    "while not sim.end:\n",
    "    \n",
    "    sim.step([], dbeta=dp)\n",
    "    \n",
    "    meas_data = np.zeros_like(sim.state) + -1\n",
    "    for i in range(grid_size):\n",
    "        for j in range(grid_size):\n",
    "            \n",
    "            meas = sim.state[i,j]\n",
    "            p_list = [meas_wrong,meas_wrong,meas_wrong]\n",
    "            p_list[meas] += meas_right - meas_wrong\n",
    "            meas_data[i,j] = np.random.choice([0,1,2], p=p_list)\n",
    "    \n",
    "    belief, debug = variational_method(belief, neighbors, grid_size, meas_data, Kmax=1, C=100)\n",
    "    state_est = np.argmax(belief, axis=2)\n",
    "    \n",
    "    num_errors = np.sum(state_est != sim.state)\n",
    "    state_errors.append(num_errors)\n",
    "    meas_errors.append(np.sum(meas_data != sim.state))\n",
    "    #print('iteration %03d: %d errors' %(sim.iter,num_errors))\n",
    "    \n",
    "    if plotting:\n",
    "        fig = plt.figure(figsize=(15,15))\n",
    "\n",
    "        ax1 = fig.add_subplot(131, aspect='equal')\n",
    "        ax1.set_xlim([0,grid_size+1])\n",
    "        ax1.set_ylim([0,grid_size+1])\n",
    "        plt.title('ground truth\\nt = %d' %sim.iter)\n",
    "        plt.tick_params(axis='both', which='both', labelbottom=False, labelleft=False, bottom=False, left=False)\n",
    "        ax1 = visualize_forest(ax1, sim.state)\n",
    "\n",
    "        ax2 = fig.add_subplot(132, aspect='equal')\n",
    "        ax2.set_xlim([0,grid_size+1])\n",
    "        ax2.set_ylim([0,grid_size+1])\n",
    "        plt.title('measurement: %d error(s)\\nt = %d' %(np.sum(meas_data != sim.state),sim.iter))\n",
    "        plt.tick_params(axis='both', which='both', labelbottom=False, labelleft=False, bottom=False, left=False)\n",
    "        ax2 = visualize_forest(ax2, meas_data)\n",
    "\n",
    "        ax3 = fig.add_subplot(133, aspect='equal')\n",
    "        ax3.set_xlim([0,grid_size+1])\n",
    "        ax3.set_ylim([0,grid_size+1])\n",
    "        plt.tick_params(axis='both', which='both', labelbottom=False, labelleft=False, bottom=False, left=False)\n",
    "        plt.title('estimate: %d error(s)\\nt = %d' %(np.sum(state_est != sim.state),sim.iter))\n",
    "        ax3 = visualize_forest(ax3, state_est)\n",
    "\n",
    "        rows, cols = np.where(state_est != sim.state)\n",
    "        for i, j in zip(rows, cols):\n",
    "            x = col_to_x(j)\n",
    "            y = row_to_y(grid_size, i)\n",
    "            plt.plot(x, y, marker='o', color='b')\n",
    "            \n",
    "    #print('sim iteration:',sim.iter)\n",
    "    \n",
    "toc = time.clock()\n",
    "#print('median number of errors: %0.2f' %(np.median(state_errors)))\n",
    "print('median percent error: %0.3f' %(np.median(state_errors)*100/grid_size**2))\n",
    "print('mean percent error: %0.3f' %(np.mean(state_errors)*100/grid_size**2))\n",
    "print('max percent error: %0.3f' %(np.amax(state_errors)*100/grid_size**2))\n",
    "print('min percent error: %0.3f' %(np.amin(state_errors)*100/grid_size**2))\n",
    "print('%0.2fs = %0.2fm elapsed' % (toc-tic,(toc-tic)/60))"
   ]
  },
  {
   "cell_type": "code",
   "execution_count": 295,
   "metadata": {
    "collapsed": false
   },
   "outputs": [
    {
     "data": {
      "text/plain": [
       "<matplotlib.text.Text at 0x7f4b8d026278>"
      ]
     },
     "execution_count": 295,
     "metadata": {},
     "output_type": "execute_result"
    },
    {
     "data": {
      "image/png": "[encoded data removed]",
      "text/plain": [
       "<matplotlib.figure.Figure at 0x7f4b8c11cdd8>"
      ]
     },
     "metadata": {},
     "output_type": "display_data"
    }
   ],
   "source": [
    "plot_state_errors = [100*e/grid_size**2 for e in state_errors]\n",
    "plot_meas_errors = [100*e/grid_size**2 for e in meas_errors]\n",
    "\n",
    "plt.figure(figsize=(12,8))\n",
    "plt.plot(plot_state_errors)\n",
    "plt.plot(plot_meas_errors)\n",
    "plt.plot(range(len(plot_state_errors)),np.median(plot_state_errors)*np.ones(len(plot_state_errors)))\n",
    "plt.plot(range(len(plot_meas_errors)),np.median(plot_meas_errors)*np.ones(len(plot_meas_errors)))\n",
    "\n",
    "plt.title('median number of errors: %0.2f || median percent error: %0.2f' \\\n",
    "          %(np.median(state_errors),np.median(state_errors)*100/grid_size**2))\n",
    "plt.ylabel('percent error')\n",
    "plt.xlabel('time')"
   ]
  },
  {
   "cell_type": "code",
   "execution_count": null,
   "metadata": {
    "collapsed": true
   },
   "outputs": [],
   "source": []
  },
  {
   "cell_type": "code",
   "execution_count": null,
   "metadata": {
    "collapsed": true
   },
   "outputs": [],
   "source": []
  },
  {
   "cell_type": "code",
   "execution_count": null,
   "metadata": {
    "collapsed": true
   },
   "outputs": [],
   "source": []
  },
  {
   "cell_type": "code",
   "execution_count": 70,
   "metadata": {
    "collapsed": false
   },
   "outputs": [
    {
     "data": {
      "image/png": "[encoded data removed]",
      "text/plain": [
       "<matplotlib.figure.Figure at 0x7f4b8c39c438>"
      ]
     },
     "metadata": {},
     "output_type": "display_data"
    }
   ],
   "source": [
    "fig = plt.figure(figsize=(15,15))\n",
    "\n",
    "ax1 = fig.add_subplot(131, aspect='equal')\n",
    "ax1.set_xlim([0,grid_size+1])\n",
    "ax1.set_ylim([0,grid_size+1])\n",
    "plt.title('ground truth\\nt = %d' %sim.iter)\n",
    "plt.tick_params(axis='both', which='both', labelbottom=False, labelleft=False, bottom=False, left=False)\n",
    "ax1 = visualize_forest(ax1, sim.state)\n",
    "\n",
    "ax2 = fig.add_subplot(132, aspect='equal')\n",
    "ax2.set_xlim([0,grid_size+1])\n",
    "ax2.set_ylim([0,grid_size+1])\n",
    "plt.title('measurement: %d error(s)\\nt = %d' %(np.sum(meas_data != sim.state),sim.iter))\n",
    "plt.tick_params(axis='both', which='both', labelbottom=False, labelleft=False, bottom=False, left=False)\n",
    "ax2 = visualize_forest(ax2, meas_data)\n",
    "\n",
    "ax3 = fig.add_subplot(133, aspect='equal')\n",
    "ax3.set_xlim([0,grid_size+1])\n",
    "ax3.set_ylim([0,grid_size+1])\n",
    "plt.tick_params(axis='both', which='both', labelbottom=False, labelleft=False, bottom=False, left=False)\n",
    "plt.title('estimate: %d error(s)\\nt = %d' %(np.sum(state_est != sim.state),sim.iter))\n",
    "ax3 = visualize_forest(ax3, state_est)"
   ]
  },
  {
   "cell_type": "code",
   "execution_count": 102,
   "metadata": {
    "collapsed": false
   },
   "outputs": [
    {
     "data": {
      "text/plain": [
       "array([[[ 0.33333333,  0.33333333,  0.33333333],\n",
       "        [ 0.33333333,  0.33333333,  0.33333333],\n",
       "        [ 0.33333333,  0.33333333,  0.33333333],\n",
       "        ..., \n",
       "        [ 0.33333333,  0.33333333,  0.33333333],\n",
       "        [ 0.33333333,  0.33333333,  0.33333333],\n",
       "        [ 0.33333333,  0.33333333,  0.33333333]],\n",
       "\n",
       "       [[ 0.33333333,  0.33333333,  0.33333333],\n",
       "        [ 0.33333333,  0.33333333,  0.33333333],\n",
       "        [ 0.33333333,  0.33333333,  0.33333333],\n",
       "        ..., \n",
       "        [ 0.33333333,  0.33333333,  0.33333333],\n",
       "        [ 0.33333333,  0.33333333,  0.33333333],\n",
       "        [ 0.33333333,  0.33333333,  0.33333333]],\n",
       "\n",
       "       [[ 0.33333333,  0.33333333,  0.33333333],\n",
       "        [ 0.33333333,  0.33333333,  0.33333333],\n",
       "        [ 0.33333333,  0.33333333,  0.33333333],\n",
       "        ..., \n",
       "        [ 0.33333333,  0.33333333,  0.33333333],\n",
       "        [ 0.33333333,  0.33333333,  0.33333333],\n",
       "        [ 0.33333333,  0.33333333,  0.33333333]],\n",
       "\n",
       "       ..., \n",
       "       [[ 0.33333333,  0.33333333,  0.33333333],\n",
       "        [ 0.33333333,  0.33333333,  0.33333333],\n",
       "        [ 0.33333333,  0.33333333,  0.33333333],\n",
       "        ..., \n",
       "        [ 0.33333333,  0.33333333,  0.33333333],\n",
       "        [ 0.33333333,  0.33333333,  0.33333333],\n",
       "        [ 0.33333333,  0.33333333,  0.33333333]],\n",
       "\n",
       "       [[ 0.33333333,  0.33333333,  0.33333333],\n",
       "        [ 0.33333333,  0.33333333,  0.33333333],\n",
       "        [ 0.33333333,  0.33333333,  0.33333333],\n",
       "        ..., \n",
       "        [ 0.33333333,  0.33333333,  0.33333333],\n",
       "        [ 0.33333333,  0.33333333,  0.33333333],\n",
       "        [ 0.33333333,  0.33333333,  0.33333333]],\n",
       "\n",
       "       [[ 0.33333333,  0.33333333,  0.33333333],\n",
       "        [ 0.33333333,  0.33333333,  0.33333333],\n",
       "        [ 0.33333333,  0.33333333,  0.33333333],\n",
       "        ..., \n",
       "        [ 0.33333333,  0.33333333,  0.33333333],\n",
       "        [ 0.33333333,  0.33333333,  0.33333333],\n",
       "        [ 0.33333333,  0.33333333,  0.33333333]]])"
      ]
     },
     "execution_count": 102,
     "metadata": {},
     "output_type": "execute_result"
    }
   ],
   "source": [
    "belief"
   ]
  },
  {
   "cell_type": "code",
   "execution_count": null,
   "metadata": {
    "collapsed": true
   },
   "outputs": [],
   "source": []
  }
 ],
 "metadata": {
  "kernelspec": {
   "display_name": "Python 3",
   "language": "python",
   "name": "python3"
  },
  "language_info": {
   "codemirror_mode": {
    "name": "ipython",
    "version": 3
   },
   "file_extension": ".py",
   "mimetype": "text/x-python",
   "name": "python",
   "nbconvert_exporter": "python",
   "pygments_lexer": "ipython3",
   "version": "3.5.2"
  }
 },
 "nbformat": 4,
 "nbformat_minor": 0
}
