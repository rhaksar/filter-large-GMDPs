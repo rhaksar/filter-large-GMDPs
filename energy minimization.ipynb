{
 "cells": [
  {
   "cell_type": "code",
   "execution_count": 1,
   "metadata": {
    "collapsed": false
   },
   "outputs": [],
   "source": [
    "from FireSimulator import *\n",
    "from FireSimulatorUtilities import *\n",
    "\n",
    "import matplotlib.pyplot as plt\n",
    "import matplotlib.patches as patches\n",
    "import numpy as np\n",
    "\n",
    "%matplotlib inline\n",
    "%load_ext autoreload\n",
    "%autoreload 2"
   ]
  },
  {
   "cell_type": "code",
   "execution_count": null,
   "metadata": {
    "collapsed": true
   },
   "outputs": [],
   "source": []
  },
  {
   "cell_type": "code",
   "execution_count": 78,
   "metadata": {
    "collapsed": true
   },
   "outputs": [],
   "source": [
    "grid_size = 5\n",
    "dp = 0\n",
    "alpha = 0.2763\n",
    "beta = np.exp(-0.1)\n",
    "\n",
    "p_meas_wrong = 0.1\n",
    "p_meas_right = 0.8\n",
    "\n",
    "w = 1"
   ]
  },
  {
   "cell_type": "code",
   "execution_count": 79,
   "metadata": {
    "collapsed": false,
    "scrolled": false
   },
   "outputs": [
    {
     "name": "stdout",
     "output_type": "stream",
     "text": [
      "xi_prev, non_fi, fi, meas, xi_curr, score\n",
      "0 0 2 0 0 2.2811724266\n",
      "0 0 2 0 1 2.43921321305\n",
      "0 0 2 0 2 inf\n",
      "0 0 2 1 0 4.36061396828\n",
      "0 0 2 1 1 0.359771671372\n",
      "0 0 2 1 2 inf\n",
      "0 0 2 2 0 4.36061396828\n",
      "0 0 2 2 1 2.43921321305\n",
      "0 0 2 2 2 inf\n",
      "0 1 1 0 0 1.38078479366\n",
      "0 1 1 0 1 2.67979296141\n",
      "0 1 1 0 2 inf\n",
      "0 1 1 1 0 3.46022633534\n",
      "0 1 1 1 1 0.600351419731\n",
      "0 1 1 1 2 inf\n",
      "0 1 1 2 0 3.46022633534\n",
      "0 1 1 2 1 2.67979296141\n",
      "0 1 1 2 2 inf\n",
      "0 2 0 0 0 0.480397160725\n",
      "0 2 0 0 1 3.78614881464\n",
      "0 2 0 0 2 inf\n",
      "0 2 0 1 0 2.5598387024\n",
      "0 2 0 1 1 1.70670727296\n",
      "0 2 0 1 2 inf\n",
      "0 2 0 2 0 2.5598387024\n",
      "0 2 0 2 1 3.78614881464\n",
      "0 2 0 2 2 inf\n",
      "0 0 3 0 0 3.31018686424\n",
      "0 0 3 0 1 2.34929594339\n",
      "0 0 3 0 2 inf\n",
      "0 0 3 1 0 5.38962840592\n",
      "0 0 3 1 1 0.269854401712\n",
      "0 0 3 1 2 inf\n",
      "0 0 3 2 0 5.38962840592\n",
      "0 0 3 2 1 2.34929594339\n",
      "0 0 3 2 2 inf\n",
      "0 1 2 0 0 2.4097992313\n",
      "0 1 2 0 1 2.42169712956\n",
      "0 1 2 0 2 inf\n",
      "0 1 2 1 0 4.48924077298\n",
      "0 1 2 1 1 0.342255587879\n",
      "0 1 2 1 2 inf\n",
      "0 1 2 2 0 4.48924077298\n",
      "0 1 2 2 1 2.42169712956\n",
      "0 1 2 2 2 inf\n",
      "0 2 1 0 0 1.50941159837\n",
      "0 2 1 0 1 2.6259634301\n",
      "0 2 1 0 2 inf\n",
      "0 2 1 1 0 3.58885314005\n",
      "0 2 1 1 1 0.546521888424\n",
      "0 2 1 1 2 inf\n",
      "0 2 1 2 0 3.58885314005\n",
      "0 2 1 2 1 2.6259634301\n",
      "0 2 1 2 2 inf\n",
      "0 3 0 0 0 0.60902396543\n",
      "0 3 0 0 1 3.44155642555\n",
      "0 3 0 0 2 inf\n",
      "0 3 0 1 0 2.68846550711\n",
      "0 3 0 1 1 1.36211488387\n",
      "0 3 0 1 2 inf\n",
      "0 3 0 2 0 2.68846550711\n",
      "0 3 0 2 1 3.44155642555\n",
      "0 3 0 2 2 inf\n",
      "0 0 4 0 0 4.33920130188\n",
      "0 0 4 0 1 2.3190282241\n",
      "0 0 4 0 2 inf\n",
      "0 0 4 1 0 6.41864284356\n",
      "0 0 4 1 1 0.239586682424\n",
      "0 0 4 1 2 inf\n",
      "0 0 4 2 0 6.41864284356\n",
      "0 0 4 2 1 2.3190282241\n",
      "0 0 4 2 2 inf\n",
      "0 1 3 0 0 3.43881366895\n",
      "0 1 3 0 1 2.34354088192\n",
      "0 1 3 0 2 inf\n",
      "0 1 3 1 0 5.51825521063\n",
      "0 1 3 1 1 0.264099340243\n",
      "0 1 3 1 2 inf\n",
      "0 1 3 2 0 5.51825521063\n",
      "0 1 3 2 1 2.34354088192\n",
      "0 1 3 2 2 inf\n",
      "0 2 2 0 0 2.53842603601\n",
      "0 2 2 0 1 2.40654468818\n",
      "0 2 2 0 2 inf\n",
      "0 2 2 1 0 4.61786757769\n",
      "0 2 2 1 1 0.327103146505\n",
      "0 2 2 1 2 inf\n",
      "0 2 2 2 0 4.61786757769\n",
      "0 2 2 2 1 2.40654468818\n",
      "0 2 2 2 2 inf\n",
      "0 3 1 0 0 1.63803840307\n",
      "0 3 1 0 1 2.58091260014\n",
      "0 3 1 0 2 inf\n",
      "0 3 1 1 0 3.71747994475\n",
      "0 3 1 1 1 0.501471058455\n",
      "0 3 1 1 2 inf\n",
      "0 3 1 2 0 3.71747994475\n",
      "0 3 1 2 1 2.58091260014\n",
      "0 3 1 2 2 inf\n",
      "0 4 0 0 0 0.737650770135\n",
      "0 4 0 0 1 3.21337872222\n",
      "0 4 0 0 2 inf\n",
      "0 4 0 1 0 2.81709231182\n",
      "0 4 0 1 1 1.13393718054\n",
      "0 4 0 1 2 inf\n",
      "0 4 0 2 0 2.81709231182\n",
      "0 4 0 2 1 3.21337872222\n",
      "0 4 0 2 2 inf\n",
      "\n",
      "xi_prev, meas, xi_curr, score\n",
      "1 0 0 inf\n",
      "1 0 1 2.40258509299\n",
      "1 0 2 4.65475355404\n",
      "1 1 0 inf\n",
      "1 1 1 0.323143551314\n",
      "1 1 2 4.65475355404\n",
      "1 2 0 inf\n",
      "1 2 1 2.40258509299\n",
      "1 2 2 2.57531201236\n",
      "\n",
      "xi_prev, meas, xi_curr, score\n",
      "2 0 0 inf\n",
      "2 0 1 inf\n",
      "2 0 2 2.30258509299\n",
      "2 1 0 inf\n",
      "2 1 1 inf\n",
      "2 1 2 2.30258509299\n",
      "2 2 0 inf\n",
      "2 2 1 inf\n",
      "2 2 2 0.223143551314\n"
     ]
    }
   ],
   "source": [
    "choice = {}\n",
    "\n",
    "for xi_prev in [0,1,2]:\n",
    "    choice[xi_prev] = {}\n",
    "    if xi_prev == 0:\n",
    "        print('xi_prev, non_fi, fi, meas, xi_curr, score')\n",
    "        for num_neighbors in [2,3,4]:\n",
    "            choice[xi_prev][num_neighbors] = {}\n",
    "            for non_fi in range(num_neighbors+1):\n",
    "                choice[xi_prev][num_neighbors][non_fi] = {}\n",
    "                fi = num_neighbors - non_fi\n",
    "                choice[xi_prev][num_neighbors][non_fi][fi] = {}\n",
    "                #for fi in range(5-non_fi):\n",
    "                    #non_fi = num_neighbors - fi\n",
    "                for meas in [0,1,2]:\n",
    "                    choice[xi_prev][num_neighbors][non_fi][fi][meas] = -1\n",
    "                    best_score = np.inf\n",
    "                    for xi_curr in [0,1,2]:\n",
    "                        score = 0\n",
    "                        if meas==xi_curr:\n",
    "                            score += -w*np.log(p_meas_right)\n",
    "                        else:\n",
    "                            score += -w*np.log(p_meas_wrong)\n",
    "\n",
    "                        if xi_curr == 0:\n",
    "                            score += -np.log(alpha**(p_meas_right*fi + p_meas_wrong*non_fi))\n",
    "                            #score += -np.log(alpha**fi)\n",
    "                        elif xi_curr == 1:\n",
    "                            score += -np.log(1 - alpha**(p_meas_right*fi + p_meas_wrong*non_fi))   \n",
    "                            #score += -np.log(1-alpha**fi)\n",
    "                        elif xi_curr == 2:\n",
    "                            score += np.inf\n",
    "\n",
    "                        if score < best_score:\n",
    "                            best_score = score\n",
    "                            choice[xi_prev][num_neighbors][non_fi][fi][meas] = xi_curr\n",
    "\n",
    "                        print(xi_prev,non_fi,fi,meas,xi_curr,score)\n",
    "        print()\n",
    "        \n",
    "    if xi_prev == 1:\n",
    "        print('xi_prev, meas, xi_curr, score')\n",
    "        for meas in [0,1,2]:\n",
    "            choice[xi_prev][meas] = -1\n",
    "            best_score = np.inf\n",
    "            for xi_curr in [0,1,2]:\n",
    "                score = 0\n",
    "                if meas==xi_curr:\n",
    "                    score += -w*np.log(p_meas_right)\n",
    "                else:\n",
    "                    score += -w*np.log(p_meas_wrong)\n",
    "                    \n",
    "                if xi_curr==0:\n",
    "                    score += np.inf\n",
    "                elif xi_curr==1:\n",
    "                    score += -np.log(beta)\n",
    "                elif xi_curr==2:\n",
    "                    score += -np.log(1-beta)\n",
    "                    \n",
    "                if score < best_score:\n",
    "                    best_score = score\n",
    "                    choice[xi_prev][meas] = xi_curr\n",
    "                    \n",
    "                print(xi_prev,meas,xi_curr,score)\n",
    "        print()\n",
    "        \n",
    "    if xi_prev == 2:\n",
    "        print('xi_prev, meas, xi_curr, score')\n",
    "        for meas in [0,1,2]:\n",
    "            choice[xi_prev][meas] = -1\n",
    "            best_score = np.inf\n",
    "            for xi_curr in [0,1,2]:\n",
    "                score = 0\n",
    "                if meas==xi_curr:\n",
    "                    score += -w*np.log(p_meas_right)\n",
    "                else:\n",
    "                    score += -w*np.log(p_meas_wrong)\n",
    "                    \n",
    "                if xi_curr==0:\n",
    "                    score += np.inf\n",
    "                elif xi_curr==1:\n",
    "                    score += np.inf\n",
    "                elif xi_curr==2:\n",
    "                    score += -np.log(1)\n",
    "                    \n",
    "                if score < best_score:\n",
    "                    best_score = score\n",
    "                    choice[xi_prev][meas] = xi_curr\n",
    "                    \n",
    "                print(xi_prev,meas,xi_curr,score)\n",
    "                    \n",
    "                    "
   ]
  },
  {
   "cell_type": "code",
   "execution_count": null,
   "metadata": {
    "collapsed": true
   },
   "outputs": [],
   "source": []
  },
  {
   "cell_type": "code",
   "execution_count": null,
   "metadata": {
    "collapsed": true
   },
   "outputs": [],
   "source": []
  },
  {
   "cell_type": "code",
   "execution_count": 80,
   "metadata": {
    "collapsed": false,
    "scrolled": false
   },
   "outputs": [
    {
     "data": {
      "image/png": "[encoded data removed]",
      "text/plain": [
       "<matplotlib.figure.Figure at 0x7f9f6fa15eb8>"
      ]
     },
     "metadata": {},
     "output_type": "display_data"
    },
    {
     "data": {
      "image/png": "[encoded data removed]",
      "text/plain": [
       "<matplotlib.figure.Figure at 0x7f9f6ec9d390>"
      ]
     },
     "metadata": {},
     "output_type": "display_data"
    },
    {
     "data": {
      "image/png": "[encoded data removed]",
      "text/plain": [
       "<matplotlib.figure.Figure at 0x7f9f6fcd6278>"
      ]
     },
     "metadata": {},
     "output_type": "display_data"
    },
    {
     "data": {
      "image/png": "[encoded data removed]",
      "text/plain": [
       "<matplotlib.figure.Figure at 0x7f9f6ec2d518>"
      ]
     },
     "metadata": {},
     "output_type": "display_data"
    },
    {
     "data": {
      "image/png": "[encoded data removed]",
      "text/plain": [
       "<matplotlib.figure.Figure at 0x7f9f6eaae4a8>"
      ]
     },
     "metadata": {},
     "output_type": "display_data"
    },
    {
     "data": {
      "image/png": "[encoded data removed]",
      "text/plain": [
       "<matplotlib.figure.Figure at 0x7f9f6ef5a160>"
      ]
     },
     "metadata": {},
     "output_type": "display_data"
    },
    {
     "data": {
      "image/png": "[encoded data removed]",
      "text/plain": [
       "<matplotlib.figure.Figure at 0x7f9f6ec5d0b8>"
      ]
     },
     "metadata": {},
     "output_type": "display_data"
    },
    {
     "data": {
      "image/png": "[encoded data removed]",
      "text/plain": [
       "<matplotlib.figure.Figure at 0x7f9f6efb96d8>"
      ]
     },
     "metadata": {},
     "output_type": "display_data"
    },
    {
     "data": {
      "image/png": "[encoded data removed]",
      "text/plain": [
       "<matplotlib.figure.Figure at 0x7f9f6f155160>"
      ]
     },
     "metadata": {},
     "output_type": "display_data"
    },
    {
     "data": {
      "image/png": "[encoded data removed]",
      "text/plain": [
       "<matplotlib.figure.Figure at 0x7f9f6fd861d0>"
      ]
     },
     "metadata": {},
     "output_type": "display_data"
    },
    {
     "data": {
      "image/png": "[encoded data removed]",
      "text/plain": [
       "<matplotlib.figure.Figure at 0x7f9f6f3d4240>"
      ]
     },
     "metadata": {},
     "output_type": "display_data"
    },
    {
     "data": {
      "image/png": "[encoded data removed]",
      "text/plain": [
       "<matplotlib.figure.Figure at 0x7f9f6ef2bcc0>"
      ]
     },
     "metadata": {},
     "output_type": "display_data"
    },
    {
     "data": {
      "image/png": "[encoded data removed]",
      "text/plain": [
       "<matplotlib.figure.Figure at 0x7f9f6f8a5d30>"
      ]
     },
     "metadata": {},
     "output_type": "display_data"
    },
    {
     "data": {
      "image/png": "[encoded data removed]",
      "text/plain": [
       "<matplotlib.figure.Figure at 0x7f9f6ec3e940>"
      ]
     },
     "metadata": {},
     "output_type": "display_data"
    },
    {
     "data": {
      "image/png": "[encoded data removed]",
      "text/plain": [
       "<matplotlib.figure.Figure at 0x7f9f6fa784e0>"
      ]
     },
     "metadata": {},
     "output_type": "display_data"
    },
    {
     "data": {
      "image/png": "[encoded data removed]",
      "text/plain": [
       "<matplotlib.figure.Figure at 0x7f9f6f699438>"
      ]
     },
     "metadata": {},
     "output_type": "display_data"
    }
   ],
   "source": [
    "np.random.seed(10)\n",
    "\n",
    "sim = FireSimulator(grid_size)\n",
    "plt.close()\n",
    "\n",
    "sim.step([], dbeta=dp)\n",
    "state_est = np.copy(sim.state)\n",
    "\n",
    "fig = plt.figure(figsize=(10,10))\n",
    "\n",
    "ax1 = fig.add_subplot(121, aspect='equal')\n",
    "plt.title('true')\n",
    "plt.tick_params(axis='both', which='both', labelbottom=False, labelleft=False, bottom=False, left=False)\n",
    "\n",
    "ax2 = fig.add_subplot(122, aspect='equal')\n",
    "plt.tick_params(axis='both', which='both', labelbottom=False, labelleft=False, bottom=False, left=False)\n",
    "plt.title('estimate')\n",
    "\n",
    "for i in range(grid_size):\n",
    "    for j in range(grid_size):\n",
    "        x = col_to_x(j)\n",
    "        y = row_to_y(grid_size,i)\n",
    "\n",
    "        if sim.state[i,j] == 0:\n",
    "            ax1.plot(x,y,'go')\n",
    "        elif sim.state[i,j] == 1:\n",
    "            ax1.plot(x,y,'ro')\n",
    "        else:\n",
    "            ax1.plot(x,y,'ko')\n",
    "            \n",
    "        if state_est[i,j] == 0:\n",
    "            ax2.plot(x,y,'go')\n",
    "        elif state_est[i,j] == 1:\n",
    "            ax2.plot(x,y,'ro')\n",
    "        else:\n",
    "            ax2.plot(x,y,'ko')\n",
    "\n",
    "for _ in range(15):\n",
    "    action = []\n",
    "    \n",
    "    sim.step(action, dbeta=dp)\n",
    "    \n",
    "    state_est_next = np.zeros_like(sim.state)\n",
    "    for i in range(grid_size):\n",
    "        for j in range(grid_size):\n",
    "            \n",
    "            meas = sim.state[i,j]\n",
    "            p_list = [0.1,0.1,0.1]\n",
    "            p_list[meas] += 0.7\n",
    "            meas = np.random.choice([0,1,2], p=p_list)\n",
    "            \n",
    "            if state_est[i,j] == 0:\n",
    "                nn = [(-1,0),(1,0),(0,-1),(0,1)]\n",
    "                non_fi = 0\n",
    "                fi = 0\n",
    "                for (di,dj) in nn:\n",
    "                    ii = i + di\n",
    "                    jj = j + dj\n",
    "                    if ii >= 0 and ii < grid_size and jj >= 0 and jj < grid_size:\n",
    "                        if state_est[ii,jj] == 1:\n",
    "                            fi += 1\n",
    "                        else:\n",
    "                            non_fi += 1\n",
    "                            \n",
    "                num_neighbors = non_fi + fi\n",
    "                        \n",
    "                state_est_next[i,j] = choice[0][num_neighbors][non_fi][fi][meas]\n",
    "                \n",
    "            elif state_est[i,j] == 1:\n",
    "                state_est_next[i,j] = choice[1][meas]\n",
    "                \n",
    "            elif state_est[i,j] == 2:\n",
    "                state_est_next[i,j] = choice[2][meas]\n",
    "                \n",
    "    state_est = state_est_next\n",
    "    \n",
    "    fig = plt.figure(figsize=(10,10))\n",
    "\n",
    "    ax1 = fig.add_subplot(121, aspect='equal')\n",
    "    plt.title('true')\n",
    "    plt.tick_params(axis='both', which='both', labelbottom=False, labelleft=False, bottom=False, left=False)\n",
    "\n",
    "    ax2 = fig.add_subplot(122, aspect='equal')\n",
    "    plt.tick_params(axis='both', which='both', labelbottom=False, labelleft=False, bottom=False, left=False)\n",
    "    plt.title('estimate')\n",
    "\n",
    "    for i in range(grid_size):\n",
    "        for j in range(grid_size):\n",
    "            x = col_to_x(j)\n",
    "            y = row_to_y(grid_size,i)\n",
    "\n",
    "            if sim.state[i,j] == 0:\n",
    "                ax1.plot(x,y,'go')\n",
    "            elif sim.state[i,j] == 1:\n",
    "                ax1.plot(x,y,'ro')\n",
    "            else:\n",
    "                ax1.plot(x,y,'ko')\n",
    "\n",
    "            if state_est[i,j] == 0:\n",
    "                ax2.plot(x,y,'go')\n",
    "            elif state_est[i,j] == 1:\n",
    "                ax2.plot(x,y,'ro')\n",
    "            else:\n",
    "                ax2.plot(x,y,'ko')\n"
   ]
  },
  {
   "cell_type": "code",
   "execution_count": null,
   "metadata": {
    "collapsed": true
   },
   "outputs": [],
   "source": []
  }
 ],
 "metadata": {
  "kernelspec": {
   "display_name": "Python 3",
   "language": "python",
   "name": "python3"
  },
  "language_info": {
   "codemirror_mode": {
    "name": "ipython",
    "version": 3
   },
   "file_extension": ".py",
   "mimetype": "text/x-python",
   "name": "python",
   "nbconvert_exporter": "python",
   "pygments_lexer": "ipython3",
   "version": "3.5.2"
  }
 },
 "nbformat": 4,
 "nbformat_minor": 0
}
